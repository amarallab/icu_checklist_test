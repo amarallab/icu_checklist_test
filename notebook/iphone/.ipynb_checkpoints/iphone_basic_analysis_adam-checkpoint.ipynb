{
 "cells": [
  {
   "cell_type": "code",
   "execution_count": 1,
   "metadata": {
    "collapsed": false
   },
   "outputs": [
    {
     "data": {
      "text/plain": [
       "'\\nReading basic data from iphone inputs\\n'"
      ]
     },
     "execution_count": 1,
     "metadata": {},
     "output_type": "execute_result"
    }
   ],
   "source": [
    "'''\n",
    "Reading basic data from iphone inputs\n",
    "'''"
   ]
  },
  {
   "cell_type": "code",
   "execution_count": 2,
   "metadata": {
    "collapsed": false
   },
   "outputs": [],
   "source": [
    "%load_ext autoreload\n",
    "%autoreload 2\n",
    "%matplotlib inline"
   ]
  },
  {
   "cell_type": "code",
   "execution_count": 3,
   "metadata": {
    "collapsed": false
   },
   "outputs": [],
   "source": [
    "import datetime\n",
    "import os\n",
    "import sys\n",
    "from operator import itemgetter\n",
    "import random\n",
    "from optparse import OptionParser\n",
    "from copy import copy\n",
    "import numpy as np\n",
    "from scipy.stats import kstest, mstats\n",
    "import string\n",
    "import pandas as pd\n",
    "import matplotlib.pyplot as plt\n",
    "import itertools\n",
    "import matplotlib.colors as colors\n",
    "import matplotlib.cm as cmx\n",
    "# import pymc as pm\n"
   ]
  },
  {
   "cell_type": "code",
   "execution_count": 4,
   "metadata": {
    "collapsed": true
   },
   "outputs": [],
   "source": [
    "file_name = '../../data/iphone_responses/backend_patientresponse.csv'\n",
    "dtypes = [int, datetime, string, datetime, string, int, int]"
   ]
  },
  {
   "cell_type": "code",
   "execution_count": 21,
   "metadata": {
    "collapsed": false,
    "scrolled": true
   },
   "outputs": [],
   "source": [
    "df = pd.read_csv(file_name, parse_dates=['workday', 'date'])\n",
    "df = df[336:]"
   ]
  },
  {
   "cell_type": "code",
   "execution_count": 22,
   "metadata": {
    "collapsed": false
   },
   "outputs": [
    {
     "data": {
      "text/plain": [
       "[54, 55, 57, 20, 56, 8, 18, 58]"
      ]
     },
     "execution_count": 22,
     "metadata": {},
     "output_type": "execute_result"
    }
   ],
   "source": [
    "doctor_id = df.user_id.unique().tolist()\n",
    "doctor_id"
   ]
  },
  {
   "cell_type": "code",
   "execution_count": null,
   "metadata": {
    "collapsed": true
   },
   "outputs": [],
   "source": []
  },
  {
   "cell_type": "code",
   "execution_count": 18,
   "metadata": {
    "collapsed": false
   },
   "outputs": [
    {
     "data": {
      "text/plain": [
       "{8: 6, 18: 87, 20: 62, 54: 396, 55: 166, 56: 111, 57: 103, 58: 319}"
      ]
     },
     "execution_count": 18,
     "metadata": {},
     "output_type": "execute_result"
    }
   ],
   "source": [
    "doctor_count = {} #count number of inputs per doctor\n",
    "count = 0\n",
    "for doc in df.user_id.tolist():\n",
    "    if doc not in doctor_count:\n",
    "        doctor_count[doc] = 1\n",
    "        count += 1\n",
    "    else:\n",
    "        doctor_count[doc] += 1\n",
    "        count += 1\n",
    "doctor_count\n",
    "# print(df.count, count)"
   ]
  },
  {
   "cell_type": "code",
   "execution_count": 19,
   "metadata": {
    "collapsed": false
   },
   "outputs": [
    {
     "data": {
      "text/plain": [
       "{Timestamp('2016-07-29 00:00:00'): {20: 4, 54: 17, 55: 20, 57: 21},\n",
       " Timestamp('2016-07-30 00:00:00'): {54: 9},\n",
       " Timestamp('2016-07-31 00:00:00'): {54: 62},\n",
       " Timestamp('2016-08-02 00:00:00'): {54: 76},\n",
       " Timestamp('2016-08-03 00:00:00'): {54: 66, 56: 80},\n",
       " Timestamp('2016-08-04 00:00:00'): {54: 85},\n",
       " Timestamp('2016-08-05 00:00:00'): {56: 20},\n",
       " Timestamp('2016-08-06 00:00:00'): {57: 22},\n",
       " Timestamp('2016-08-08 00:00:00'): {54: 25, 56: 4},\n",
       " Timestamp('2016-08-11 00:00:00'): {20: 58, 56: 7, 57: 21},\n",
       " Timestamp('2016-08-12 00:00:00'): {57: 39},\n",
       " Timestamp('2016-08-17 00:00:00'): {8: 6},\n",
       " Timestamp('2016-08-18 00:00:00'): {54: 46, 55: 9},\n",
       " Timestamp('2016-08-19 00:00:00'): {54: 10},\n",
       " Timestamp('2016-08-25 00:00:00'): {55: 38},\n",
       " Timestamp('2016-08-29 00:00:00'): {18: 87, 55: 16},\n",
       " Timestamp('2016-08-31 00:00:00'): {55: 50},\n",
       " Timestamp('2016-09-06 00:00:00'): {58: 114},\n",
       " Timestamp('2016-09-07 00:00:00'): {55: 14, 58: 82},\n",
       " Timestamp('2016-09-08 00:00:00'): {55: 19, 58: 123}}"
      ]
     },
     "execution_count": 19,
     "metadata": {},
     "output_type": "execute_result"
    }
   ],
   "source": [
    "date_dict = {}\n",
    "for date in df.workday:\n",
    "    workday = {}\n",
    "    for user_id in df.user_id[df.workday == date]:\n",
    "        if user_id not in workday:\n",
    "            workday[user_id] = 1\n",
    "        else:\n",
    "            workday[user_id] += 1\n",
    "    date_dict[date] = workday\n",
    "date_dict"
   ]
  },
  {
   "cell_type": "code",
   "execution_count": 20,
   "metadata": {
    "collapsed": false
   },
   "outputs": [
    {
     "data": {
      "text/plain": [
       "{Timestamp('2016-07-29 00:00:00'): {'A': 21, 'B': 4, 'C': 17, 'D': 20},\n",
       " Timestamp('2016-07-30 00:00:00'): {'A': 9},\n",
       " Timestamp('2016-07-31 00:00:00'): {'A': 62},\n",
       " Timestamp('2016-08-02 00:00:00'): {'A': 76},\n",
       " Timestamp('2016-08-03 00:00:00'): {'A': 80, 'B': 66},\n",
       " Timestamp('2016-08-04 00:00:00'): {'A': 85},\n",
       " Timestamp('2016-08-05 00:00:00'): {'A': 20},\n",
       " Timestamp('2016-08-06 00:00:00'): {'A': 22},\n",
       " Timestamp('2016-08-08 00:00:00'): {'A': 4, 'B': 25},\n",
       " Timestamp('2016-08-11 00:00:00'): {'A': 7, 'B': 21, 'C': 58},\n",
       " Timestamp('2016-08-12 00:00:00'): {'A': 39},\n",
       " Timestamp('2016-08-17 00:00:00'): {'A': 6},\n",
       " Timestamp('2016-08-18 00:00:00'): {'A': 46, 'B': 9},\n",
       " Timestamp('2016-08-19 00:00:00'): {'A': 10},\n",
       " Timestamp('2016-08-25 00:00:00'): {'A': 38},\n",
       " Timestamp('2016-08-29 00:00:00'): {'A': 87, 'B': 16},\n",
       " Timestamp('2016-08-31 00:00:00'): {'A': 50},\n",
       " Timestamp('2016-09-06 00:00:00'): {'A': 114},\n",
       " Timestamp('2016-09-07 00:00:00'): {'A': 82, 'B': 14},\n",
       " Timestamp('2016-09-08 00:00:00'): {'A': 123, 'B': 19}}"
      ]
     },
     "execution_count": 20,
     "metadata": {},
     "output_type": "execute_result"
    }
   ],
   "source": [
    "#annonimizing doctor ids\n",
    "annoni_dict = {}\n",
    "date_dict2 = copy(date_dict)\n",
    "for date_key, dict_val in date_dict2.items():\n",
    "    annoni_id = ['A','B','C','D','E','F']\n",
    "    new_dict = {}\n",
    "    for i in range(len(dict_val.keys())):\n",
    "        new_dict[annoni_id[i]] = dict_val[list(dict_val.keys())[i]]\n",
    "    annoni_dict[date_key] = new_dict\n",
    "annoni_dict"
   ]
  },
  {
   "cell_type": "code",
   "execution_count": 10,
   "metadata": {
    "collapsed": false
   },
   "outputs": [
    {
     "name": "stdout",
     "output_type": "stream",
     "text": [
      "[datetime.datetime(2016, 7, 29, 0, 0), datetime.datetime(2016, 7, 30, 0, 0), datetime.datetime(2016, 7, 31, 0, 0), datetime.datetime(2016, 8, 1, 0, 0), datetime.datetime(2016, 8, 2, 0, 0), datetime.datetime(2016, 8, 3, 0, 0), datetime.datetime(2016, 8, 4, 0, 0), datetime.datetime(2016, 8, 5, 0, 0), datetime.datetime(2016, 8, 6, 0, 0), datetime.datetime(2016, 8, 7, 0, 0), datetime.datetime(2016, 8, 8, 0, 0), datetime.datetime(2016, 8, 9, 0, 0), datetime.datetime(2016, 8, 10, 0, 0), datetime.datetime(2016, 8, 11, 0, 0), datetime.datetime(2016, 8, 12, 0, 0), datetime.datetime(2016, 8, 13, 0, 0), datetime.datetime(2016, 8, 14, 0, 0), datetime.datetime(2016, 8, 15, 0, 0), datetime.datetime(2016, 8, 16, 0, 0), datetime.datetime(2016, 8, 17, 0, 0), datetime.datetime(2016, 8, 18, 0, 0), datetime.datetime(2016, 8, 19, 0, 0), datetime.datetime(2016, 8, 20, 0, 0), datetime.datetime(2016, 8, 21, 0, 0), datetime.datetime(2016, 8, 22, 0, 0), datetime.datetime(2016, 8, 23, 0, 0), datetime.datetime(2016, 8, 24, 0, 0), datetime.datetime(2016, 8, 25, 0, 0), datetime.datetime(2016, 8, 26, 0, 0), datetime.datetime(2016, 8, 27, 0, 0), datetime.datetime(2016, 8, 28, 0, 0), datetime.datetime(2016, 8, 29, 0, 0), datetime.datetime(2016, 8, 30, 0, 0), datetime.datetime(2016, 8, 31, 0, 0), datetime.datetime(2016, 9, 1, 0, 0), datetime.datetime(2016, 9, 2, 0, 0), datetime.datetime(2016, 9, 3, 0, 0), datetime.datetime(2016, 9, 4, 0, 0), datetime.datetime(2016, 9, 5, 0, 0), datetime.datetime(2016, 9, 6, 0, 0), datetime.datetime(2016, 9, 7, 0, 0), datetime.datetime(2016, 9, 8, 0, 0)]\n"
     ]
    },
    {
     "data": {
      "text/plain": [
       "10"
      ]
     },
     "execution_count": 10,
     "metadata": {},
     "output_type": "execute_result"
    }
   ],
   "source": [
    "dates = sorted(list(annoni_dict.keys()))\n",
    "start = dates[0].to_datetime()\n",
    "end = dates[-1].to_datetime()\n",
    "days = (end-start).days + 1\n",
    "\n",
    "date_list = [start + datetime.timedelta(days=x) for x in range(0, days)]\n",
    "print(date_list)\n",
    "columns = ['A', 'B', 'C', 'D']\n",
    "\n",
    "df_docpatient = pd.DataFrame(0, index=date_list, columns=columns)\n",
    "for index, val in annoni_dict.items():\n",
    "    for col in val:\n",
    "        df_docpatient[col][index] = annoni_dict[index][col]\n",
    "df_docpatient['A'][pd.Timestamp('2016-08-19 00:00:00')]"
   ]
  },
  {
   "cell_type": "code",
   "execution_count": 15,
   "metadata": {
    "collapsed": false
   },
   "outputs": [
    {
     "data": {
      "text/html": [
       "<div>\n",
       "<table border=\"1\" class=\"dataframe\">\n",
       "  <thead>\n",
       "    <tr style=\"text-align: right;\">\n",
       "      <th></th>\n",
       "      <th>A</th>\n",
       "      <th>B</th>\n",
       "      <th>C</th>\n",
       "      <th>D</th>\n",
       "    </tr>\n",
       "  </thead>\n",
       "  <tbody>\n",
       "    <tr>\n",
       "      <th>2016-07-29</th>\n",
       "      <td>21</td>\n",
       "      <td>4</td>\n",
       "      <td>17</td>\n",
       "      <td>22</td>\n",
       "    </tr>\n",
       "    <tr>\n",
       "      <th>2016-07-30</th>\n",
       "      <td>9</td>\n",
       "      <td>0</td>\n",
       "      <td>0</td>\n",
       "      <td>0</td>\n",
       "    </tr>\n",
       "    <tr>\n",
       "      <th>2016-07-31</th>\n",
       "      <td>62</td>\n",
       "      <td>0</td>\n",
       "      <td>0</td>\n",
       "      <td>0</td>\n",
       "    </tr>\n",
       "    <tr>\n",
       "      <th>2016-08-01</th>\n",
       "      <td>0</td>\n",
       "      <td>0</td>\n",
       "      <td>0</td>\n",
       "      <td>0</td>\n",
       "    </tr>\n",
       "    <tr>\n",
       "      <th>2016-08-02</th>\n",
       "      <td>76</td>\n",
       "      <td>0</td>\n",
       "      <td>0</td>\n",
       "      <td>0</td>\n",
       "    </tr>\n",
       "    <tr>\n",
       "      <th>2016-08-03</th>\n",
       "      <td>80</td>\n",
       "      <td>66</td>\n",
       "      <td>0</td>\n",
       "      <td>0</td>\n",
       "    </tr>\n",
       "    <tr>\n",
       "      <th>2016-08-04</th>\n",
       "      <td>85</td>\n",
       "      <td>0</td>\n",
       "      <td>0</td>\n",
       "      <td>0</td>\n",
       "    </tr>\n",
       "    <tr>\n",
       "      <th>2016-08-05</th>\n",
       "      <td>20</td>\n",
       "      <td>0</td>\n",
       "      <td>0</td>\n",
       "      <td>0</td>\n",
       "    </tr>\n",
       "    <tr>\n",
       "      <th>2016-08-06</th>\n",
       "      <td>22</td>\n",
       "      <td>0</td>\n",
       "      <td>0</td>\n",
       "      <td>0</td>\n",
       "    </tr>\n",
       "    <tr>\n",
       "      <th>2016-08-07</th>\n",
       "      <td>0</td>\n",
       "      <td>0</td>\n",
       "      <td>0</td>\n",
       "      <td>0</td>\n",
       "    </tr>\n",
       "    <tr>\n",
       "      <th>2016-08-08</th>\n",
       "      <td>4</td>\n",
       "      <td>25</td>\n",
       "      <td>0</td>\n",
       "      <td>0</td>\n",
       "    </tr>\n",
       "    <tr>\n",
       "      <th>2016-08-09</th>\n",
       "      <td>0</td>\n",
       "      <td>0</td>\n",
       "      <td>0</td>\n",
       "      <td>0</td>\n",
       "    </tr>\n",
       "    <tr>\n",
       "      <th>2016-08-10</th>\n",
       "      <td>0</td>\n",
       "      <td>0</td>\n",
       "      <td>0</td>\n",
       "      <td>0</td>\n",
       "    </tr>\n",
       "    <tr>\n",
       "      <th>2016-08-11</th>\n",
       "      <td>7</td>\n",
       "      <td>21</td>\n",
       "      <td>58</td>\n",
       "      <td>0</td>\n",
       "    </tr>\n",
       "    <tr>\n",
       "      <th>2016-08-12</th>\n",
       "      <td>39</td>\n",
       "      <td>0</td>\n",
       "      <td>0</td>\n",
       "      <td>0</td>\n",
       "    </tr>\n",
       "    <tr>\n",
       "      <th>2016-08-13</th>\n",
       "      <td>0</td>\n",
       "      <td>0</td>\n",
       "      <td>0</td>\n",
       "      <td>0</td>\n",
       "    </tr>\n",
       "    <tr>\n",
       "      <th>2016-08-14</th>\n",
       "      <td>0</td>\n",
       "      <td>0</td>\n",
       "      <td>0</td>\n",
       "      <td>0</td>\n",
       "    </tr>\n",
       "    <tr>\n",
       "      <th>2016-08-15</th>\n",
       "      <td>0</td>\n",
       "      <td>0</td>\n",
       "      <td>0</td>\n",
       "      <td>0</td>\n",
       "    </tr>\n",
       "    <tr>\n",
       "      <th>2016-08-16</th>\n",
       "      <td>0</td>\n",
       "      <td>0</td>\n",
       "      <td>0</td>\n",
       "      <td>0</td>\n",
       "    </tr>\n",
       "    <tr>\n",
       "      <th>2016-08-17</th>\n",
       "      <td>6</td>\n",
       "      <td>0</td>\n",
       "      <td>0</td>\n",
       "      <td>0</td>\n",
       "    </tr>\n",
       "    <tr>\n",
       "      <th>2016-08-18</th>\n",
       "      <td>46</td>\n",
       "      <td>9</td>\n",
       "      <td>0</td>\n",
       "      <td>0</td>\n",
       "    </tr>\n",
       "    <tr>\n",
       "      <th>2016-08-19</th>\n",
       "      <td>10</td>\n",
       "      <td>0</td>\n",
       "      <td>0</td>\n",
       "      <td>0</td>\n",
       "    </tr>\n",
       "    <tr>\n",
       "      <th>2016-08-20</th>\n",
       "      <td>0</td>\n",
       "      <td>0</td>\n",
       "      <td>0</td>\n",
       "      <td>0</td>\n",
       "    </tr>\n",
       "    <tr>\n",
       "      <th>2016-08-21</th>\n",
       "      <td>0</td>\n",
       "      <td>0</td>\n",
       "      <td>0</td>\n",
       "      <td>0</td>\n",
       "    </tr>\n",
       "    <tr>\n",
       "      <th>2016-08-22</th>\n",
       "      <td>0</td>\n",
       "      <td>0</td>\n",
       "      <td>0</td>\n",
       "      <td>0</td>\n",
       "    </tr>\n",
       "    <tr>\n",
       "      <th>2016-08-23</th>\n",
       "      <td>0</td>\n",
       "      <td>0</td>\n",
       "      <td>0</td>\n",
       "      <td>0</td>\n",
       "    </tr>\n",
       "    <tr>\n",
       "      <th>2016-08-24</th>\n",
       "      <td>0</td>\n",
       "      <td>0</td>\n",
       "      <td>0</td>\n",
       "      <td>0</td>\n",
       "    </tr>\n",
       "    <tr>\n",
       "      <th>2016-08-25</th>\n",
       "      <td>38</td>\n",
       "      <td>0</td>\n",
       "      <td>0</td>\n",
       "      <td>0</td>\n",
       "    </tr>\n",
       "    <tr>\n",
       "      <th>2016-08-26</th>\n",
       "      <td>0</td>\n",
       "      <td>0</td>\n",
       "      <td>0</td>\n",
       "      <td>0</td>\n",
       "    </tr>\n",
       "    <tr>\n",
       "      <th>2016-08-27</th>\n",
       "      <td>0</td>\n",
       "      <td>0</td>\n",
       "      <td>0</td>\n",
       "      <td>0</td>\n",
       "    </tr>\n",
       "    <tr>\n",
       "      <th>2016-08-28</th>\n",
       "      <td>0</td>\n",
       "      <td>0</td>\n",
       "      <td>0</td>\n",
       "      <td>0</td>\n",
       "    </tr>\n",
       "    <tr>\n",
       "      <th>2016-08-29</th>\n",
       "      <td>87</td>\n",
       "      <td>16</td>\n",
       "      <td>0</td>\n",
       "      <td>0</td>\n",
       "    </tr>\n",
       "    <tr>\n",
       "      <th>2016-08-30</th>\n",
       "      <td>0</td>\n",
       "      <td>0</td>\n",
       "      <td>0</td>\n",
       "      <td>0</td>\n",
       "    </tr>\n",
       "    <tr>\n",
       "      <th>2016-08-31</th>\n",
       "      <td>50</td>\n",
       "      <td>0</td>\n",
       "      <td>0</td>\n",
       "      <td>0</td>\n",
       "    </tr>\n",
       "    <tr>\n",
       "      <th>2016-09-01</th>\n",
       "      <td>0</td>\n",
       "      <td>0</td>\n",
       "      <td>0</td>\n",
       "      <td>0</td>\n",
       "    </tr>\n",
       "    <tr>\n",
       "      <th>2016-09-02</th>\n",
       "      <td>0</td>\n",
       "      <td>0</td>\n",
       "      <td>0</td>\n",
       "      <td>0</td>\n",
       "    </tr>\n",
       "    <tr>\n",
       "      <th>2016-09-03</th>\n",
       "      <td>0</td>\n",
       "      <td>0</td>\n",
       "      <td>0</td>\n",
       "      <td>0</td>\n",
       "    </tr>\n",
       "    <tr>\n",
       "      <th>2016-09-04</th>\n",
       "      <td>0</td>\n",
       "      <td>0</td>\n",
       "      <td>0</td>\n",
       "      <td>0</td>\n",
       "    </tr>\n",
       "    <tr>\n",
       "      <th>2016-09-05</th>\n",
       "      <td>0</td>\n",
       "      <td>0</td>\n",
       "      <td>0</td>\n",
       "      <td>0</td>\n",
       "    </tr>\n",
       "    <tr>\n",
       "      <th>2016-09-06</th>\n",
       "      <td>114</td>\n",
       "      <td>0</td>\n",
       "      <td>0</td>\n",
       "      <td>0</td>\n",
       "    </tr>\n",
       "    <tr>\n",
       "      <th>2016-09-07</th>\n",
       "      <td>82</td>\n",
       "      <td>14</td>\n",
       "      <td>0</td>\n",
       "      <td>0</td>\n",
       "    </tr>\n",
       "    <tr>\n",
       "      <th>2016-09-08</th>\n",
       "      <td>123</td>\n",
       "      <td>19</td>\n",
       "      <td>0</td>\n",
       "      <td>0</td>\n",
       "    </tr>\n",
       "  </tbody>\n",
       "</table>\n",
       "</div>"
      ],
      "text/plain": [
       "              A   B   C   D\n",
       "2016-07-29   21   4  17  22\n",
       "2016-07-30    9   0   0   0\n",
       "2016-07-31   62   0   0   0\n",
       "2016-08-01    0   0   0   0\n",
       "2016-08-02   76   0   0   0\n",
       "2016-08-03   80  66   0   0\n",
       "2016-08-04   85   0   0   0\n",
       "2016-08-05   20   0   0   0\n",
       "2016-08-06   22   0   0   0\n",
       "2016-08-07    0   0   0   0\n",
       "2016-08-08    4  25   0   0\n",
       "2016-08-09    0   0   0   0\n",
       "2016-08-10    0   0   0   0\n",
       "2016-08-11    7  21  58   0\n",
       "2016-08-12   39   0   0   0\n",
       "2016-08-13    0   0   0   0\n",
       "2016-08-14    0   0   0   0\n",
       "2016-08-15    0   0   0   0\n",
       "2016-08-16    0   0   0   0\n",
       "2016-08-17    6   0   0   0\n",
       "2016-08-18   46   9   0   0\n",
       "2016-08-19   10   0   0   0\n",
       "2016-08-20    0   0   0   0\n",
       "2016-08-21    0   0   0   0\n",
       "2016-08-22    0   0   0   0\n",
       "2016-08-23    0   0   0   0\n",
       "2016-08-24    0   0   0   0\n",
       "2016-08-25   38   0   0   0\n",
       "2016-08-26    0   0   0   0\n",
       "2016-08-27    0   0   0   0\n",
       "2016-08-28    0   0   0   0\n",
       "2016-08-29   87  16   0   0\n",
       "2016-08-30    0   0   0   0\n",
       "2016-08-31   50   0   0   0\n",
       "2016-09-01    0   0   0   0\n",
       "2016-09-02    0   0   0   0\n",
       "2016-09-03    0   0   0   0\n",
       "2016-09-04    0   0   0   0\n",
       "2016-09-05    0   0   0   0\n",
       "2016-09-06  114   0   0   0\n",
       "2016-09-07   82  14   0   0\n",
       "2016-09-08  123  19   0   0"
      ]
     },
     "execution_count": 15,
     "metadata": {},
     "output_type": "execute_result"
    }
   ],
   "source": [
    "df_docpatient[0:]"
   ]
  },
  {
   "cell_type": "code",
   "execution_count": 13,
   "metadata": {
    "collapsed": false
   },
   "outputs": [
    {
     "data": {
      "image/png": "[encoded data removed]",
      "text/plain": [
       "<matplotlib.figure.Figure at 0x10f9c4c88>"
      ]
     },
     "metadata": {},
     "output_type": "display_data"
    }
   ],
   "source": [
    "\n",
    "ax = df_docpatient.plot(kind='bar', figsize=(40, 10), colormap=cmx.viridis)\n",
    "plt.tight_layout()\n",
    "# plt.savefig('../result/iphoneapp/daily_per_doctor_.png', transparent=True)"
   ]
  },
  {
   "cell_type": "code",
   "execution_count": null,
   "metadata": {
    "collapsed": true
   },
   "outputs": [],
   "source": []
  }
 ],
 "metadata": {
  "kernelspec": {
   "display_name": "Python 3",
   "language": "python",
   "name": "python3"
  },
  "language_info": {
   "codemirror_mode": {
    "name": "ipython",
    "version": 3
   },
   "file_extension": ".py",
   "mimetype": "text/x-python",
   "name": "python",
   "nbconvert_exporter": "python",
   "pygments_lexer": "ipython3",
   "version": "3.4.0"
  }
 },
 "nbformat": 4,
 "nbformat_minor": 0
}
