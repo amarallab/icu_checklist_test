{
 "cells": [
  {
   "cell_type": "code",
   "execution_count": 1,
   "metadata": {
    "collapsed": false
   },
   "outputs": [
    {
     "data": {
      "text/plain": [
       "'\\nReading basic data from iphone inputs\\n'"
      ]
     },
     "execution_count": 1,
     "metadata": {},
     "output_type": "execute_result"
    }
   ],
   "source": [
    "'''\n",
    "Reading basic data from iphone inputs\n",
    "'''"
   ]
  },
  {
   "cell_type": "code",
   "execution_count": 2,
   "metadata": {
    "collapsed": false
   },
   "outputs": [],
   "source": [
    "%load_ext autoreload\n",
    "%autoreload 2\n",
    "%matplotlib inline"
   ]
  },
  {
   "cell_type": "code",
   "execution_count": 3,
   "metadata": {
    "collapsed": false
   },
   "outputs": [],
   "source": [
    "import datetime\n",
    "import os\n",
    "import sys\n",
    "from operator import itemgetter\n",
    "import random\n",
    "from optparse import OptionParser\n",
    "from copy import copy\n",
    "import numpy as np\n",
    "from scipy.stats import kstest, mstats\n",
    "import string\n",
    "import pandas as pd\n",
    "import matplotlib.pyplot as plt\n",
    "import itertools\n",
    "import matplotlib.colors as colors\n",
    "import matplotlib.cm as cmx\n",
    "# import pymc as pm\n"
   ]
  },
  {
   "cell_type": "code",
   "execution_count": 4,
   "metadata": {
    "collapsed": false
   },
   "outputs": [],
   "source": [
    "user_file = '../../data/iphone_responses/auth_user.csv'\n",
    "dtypes = [int, string, datetime, int, string, string, string, string, int, int, datetime]"
   ]
  },
  {
   "cell_type": "code",
   "execution_count": 5,
   "metadata": {
    "collapsed": false
   },
   "outputs": [
    {
     "data": {
      "text/plain": [
       "0    2\n",
       "1    3\n",
       "2    4\n",
       "3    5\n",
       "4    7\n",
       "5    8\n",
       "Name: id, dtype: int64"
      ]
     },
     "execution_count": 5,
     "metadata": {},
     "output_type": "execute_result"
    }
   ],
   "source": [
    "df_user = pd.read_csv(user_file, parse_dates=['last_login', 'date_joined'])\n",
    "admin_list = ['anna', 'john', 'mbechel1', 'memorial', 'admin', 'nm175316']\n",
    "df_user[df_user.username.isin(admin_list)].id"
   ]
  },
  {
   "cell_type": "code",
   "execution_count": 6,
   "metadata": {
    "collapsed": false,
    "scrolled": true
   },
   "outputs": [],
   "source": [
    "df_user = df_user[~df_user['username'].isin(admin_list)]"
   ]
  },
  {
   "cell_type": "code",
   "execution_count": 7,
   "metadata": {
    "collapsed": false
   },
   "outputs": [],
   "source": [
    "user_list = df_user.username.unique().tolist()"
   ]
  },
  {
   "cell_type": "code",
   "execution_count": 8,
   "metadata": {
    "collapsed": false,
    "scrolled": true
   },
   "outputs": [],
   "source": [
    "user_id_list = df_user[df_user.username.isin(user_list)]['id'].unique().tolist()"
   ]
  },
  {
   "cell_type": "code",
   "execution_count": 9,
   "metadata": {
    "collapsed": false,
    "scrolled": true
   },
   "outputs": [],
   "source": [
    "response_file = '../../data/iphone_responses/backend_patientresponse.csv'\n",
    "dtypes = {'id': int, 'question_id': str, 'workday': str, \n",
    "          'response': str, 'date': str, 'patient_id': str, 'checklist_id': int, 'user_id': int}\n",
    "df_response = pd.read_csv(response_file, parse_dates=['workday', 'date'])\n",
    "df_response = df_response[466:]\n",
    "df_response = df_response[df_response['user_id'].isin(user_id_list)]"
   ]
  },
  {
   "cell_type": "code",
   "execution_count": 10,
   "metadata": {
    "collapsed": false
   },
   "outputs": [],
   "source": [
    "# df_response.workday[df_response['user_id'] == '33']"
   ]
  },
  {
   "cell_type": "code",
   "execution_count": 11,
   "metadata": {
    "collapsed": false,
    "scrolled": true
   },
   "outputs": [],
   "source": [
    "#number of increasing adopters since the first date\n",
    "start_date = df_response.date[466].date()\n",
    "#users after each date:\n",
    "user_by_days_dict = {}\n",
    "for index, shift in df_response.iterrows():\n",
    "    date = shift.date.date()\n",
    "    days = (date - start_date).days\n",
    "    #add the date to the dictionary\n",
    "    if days not in user_by_days_dict.keys():\n",
    "        user_by_days_dict[days] = []\n",
    "    #append the user to the day\n",
    "    user_by_days_dict[days].append(shift.user_id)\n",
    "    #get unique ids\n",
    "    user_by_days_dict[days] = list(set(user_by_days_dict[days]))\n"
   ]
  },
  {
   "cell_type": "code",
   "execution_count": 12,
   "metadata": {
    "collapsed": false,
    "scrolled": true
   },
   "outputs": [],
   "source": [
    "#adopter list:\n",
    "adopter_dict = dict.fromkeys(np.arange(0, list(user_by_days_dict.keys())[-1], 1))\n",
    "adopter_list = []\n",
    "# for day, users in user_by_days_dict.items():\n",
    "#     for user in users:\n",
    "#         if user not in adopter_list:\n",
    "#             adopter_list.append(user)\n",
    "for day in adopter_dict.keys():\n",
    "    if day in user_by_days_dict.keys():\n",
    "        for user in user_by_days_dict[day]:\n",
    "            if user not in adopter_list:\n",
    "                adopter_list.append(user)\n",
    "    adopter_dict[day] = len(adopter_list)\n"
   ]
  },
  {
   "cell_type": "code",
   "execution_count": 13,
   "metadata": {
    "collapsed": false
   },
   "outputs": [
    {
     "data": {
      "text/plain": [
       "48"
      ]
     },
     "execution_count": 13,
     "metadata": {},
     "output_type": "execute_result"
    }
   ],
   "source": [
    "len(user_list)"
   ]
  },
  {
   "cell_type": "code",
   "execution_count": 14,
   "metadata": {
    "collapsed": false,
    "scrolled": true
   },
   "outputs": [
    {
     "data": {
      "image/png": "[encoded data removed]",
      "text/plain": [
       "<matplotlib.figure.Figure at 0x7f0e0fcc35c0>"
      ]
     },
     "metadata": {},
     "output_type": "display_data"
    }
   ],
   "source": [
    "x = list(adopter_dict.keys())\n",
    "y = list(adopter_dict.values())\n",
    "\n",
    "fig, ax = plt.subplots(figsize=(10, 6))\n",
    "font_size = 15\n",
    "#plot the adopters\n",
    "ax.plot(x, y, color='firebrick')\n",
    "ax.scatter(x, y, color='firebrick')\n",
    "#plot the max adopter line\n",
    "ax.axhline(y=len(user_list), color='gray', lw=2)\n",
    "ax.axhline(y=15, color='gray', lw=2)\n",
    "ax.text(5, 50, 'Number of total physicians =48', fontsize=.7*font_size)\n",
    "ax.text(5, 17, 'Number of fellows = 15', fontsize=.7*font_size)\n",
    "#set axis\n",
    "ax.set_xlim(0, list(user_by_days_dict.keys())[-1])\n",
    "ax.set_ylim(0, 60)\n",
    "#set axis label\n",
    "ax.set_xlabel('Days after app deployment', fontsize=font_size)\n",
    "ax.set_ylabel('Number of users', fontsize=font_size)\n",
    "#savefigure\n",
    "plt.tight_layout()\n",
    "plt.savefig('../../result/iphoneapp/useroverdays_120516.png', transparent=True)\n",
    "# plt.savefig('../../result/iphoneapp/useroverdays.pdf', transparent=True)"
   ]
  },
  {
   "cell_type": "markdown",
   "metadata": {
    "collapsed": true
   },
   "source": [
    "## Frequency "
   ]
  },
  {
   "cell_type": "code",
   "execution_count": 15,
   "metadata": {
    "collapsed": false
   },
   "outputs": [],
   "source": [
    "file_timeentry = '../../data/iphone_responses/backend_tmetryentry.csv'\n",
    "dtypes = [str, datetime, str, str, str, int]\n",
    "df_timeentry = pd.read_csv(file_timeentry, parse_dates=['date'])\n",
    "#start on August 1, 2016\n",
    "df_timeentry = df_timeentry[2004:]\n",
    "#REMOVE NULL ROWS IN VALUE -> NULLS ARE made for beaconstatus which is not ready yet\n",
    "df_timeentry = df_timeentry[(df_timeentry.value.notnull())]\n",
    "# admin_list = ['admin', 'anna', 'john', 'memorial', 'nm175316', '[mbechel']\n",
    "admin_list= [2,3,4,5,7,8]\n",
    "df_timeentry = df_timeentry[~df_timeentry.user_id.isin(admin_list)]"
   ]
  },
  {
   "cell_type": "code",
   "execution_count": 16,
   "metadata": {
    "collapsed": false
   },
   "outputs": [
    {
     "data": {
      "text/html": [
       "<div>\n",
       "<table border=\"1\" class=\"dataframe\">\n",
       "  <thead>\n",
       "    <tr style=\"text-align: right;\">\n",
       "      <th></th>\n",
       "      <th>id</th>\n",
       "      <th>date</th>\n",
       "      <th>action</th>\n",
       "      <th>value</th>\n",
       "      <th>user_id</th>\n",
       "    </tr>\n",
       "    <tr>\n",
       "      <th>object</th>\n",
       "      <th></th>\n",
       "      <th></th>\n",
       "      <th></th>\n",
       "      <th></th>\n",
       "      <th></th>\n",
       "    </tr>\n",
       "  </thead>\n",
       "  <tbody>\n",
       "    <tr>\n",
       "      <th>C: AmaralLogin</th>\n",
       "      <td>18380</td>\n",
       "      <td>18380</td>\n",
       "      <td>18380</td>\n",
       "      <td>18380</td>\n",
       "      <td>18380</td>\n",
       "    </tr>\n",
       "    <tr>\n",
       "      <th>C: CernerAuthenticate</th>\n",
       "      <td>8010</td>\n",
       "      <td>8010</td>\n",
       "      <td>8010</td>\n",
       "      <td>8010</td>\n",
       "      <td>8010</td>\n",
       "    </tr>\n",
       "    <tr>\n",
       "      <th>C: CernerObtainToken</th>\n",
       "      <td>8891</td>\n",
       "      <td>8891</td>\n",
       "      <td>8891</td>\n",
       "      <td>8891</td>\n",
       "      <td>8891</td>\n",
       "    </tr>\n",
       "    <tr>\n",
       "      <th>C: Login</th>\n",
       "      <td>4330</td>\n",
       "      <td>4330</td>\n",
       "      <td>4330</td>\n",
       "      <td>4330</td>\n",
       "      <td>4330</td>\n",
       "    </tr>\n",
       "    <tr>\n",
       "      <th>C: PatientDetail</th>\n",
       "      <td>219299</td>\n",
       "      <td>219299</td>\n",
       "      <td>219299</td>\n",
       "      <td>219299</td>\n",
       "      <td>219299</td>\n",
       "    </tr>\n",
       "    <tr>\n",
       "      <th>C: PatientList</th>\n",
       "      <td>43398</td>\n",
       "      <td>43398</td>\n",
       "      <td>43398</td>\n",
       "      <td>43398</td>\n",
       "      <td>43398</td>\n",
       "    </tr>\n",
       "    <tr>\n",
       "      <th>W: AmaralLogin</th>\n",
       "      <td>8</td>\n",
       "      <td>8</td>\n",
       "      <td>8</td>\n",
       "      <td>8</td>\n",
       "      <td>8</td>\n",
       "    </tr>\n",
       "    <tr>\n",
       "      <th>W: Login</th>\n",
       "      <td>1</td>\n",
       "      <td>1</td>\n",
       "      <td>1</td>\n",
       "      <td>1</td>\n",
       "      <td>1</td>\n",
       "    </tr>\n",
       "  </tbody>\n",
       "</table>\n",
       "</div>"
      ],
      "text/plain": [
       "                           id    date  action   value  user_id\n",
       "object                                                        \n",
       "C: AmaralLogin          18380   18380   18380   18380    18380\n",
       "C: CernerAuthenticate    8010    8010    8010    8010     8010\n",
       "C: CernerObtainToken     8891    8891    8891    8891     8891\n",
       "C: Login                 4330    4330    4330    4330     4330\n",
       "C: PatientDetail       219299  219299  219299  219299   219299\n",
       "C: PatientList          43398   43398   43398   43398    43398\n",
       "W: AmaralLogin              8       8       8       8        8\n",
       "W: Login                    1       1       1       1        1"
      ]
     },
     "execution_count": 16,
     "metadata": {},
     "output_type": "execute_result"
    }
   ],
   "source": [
    "df_timeentry.groupby(['object']).count()"
   ]
  },
  {
   "cell_type": "code",
   "execution_count": 18,
   "metadata": {
    "collapsed": false
   },
   "outputs": [
    {
     "data": {
      "image/png": "[encoded data removed]",
      "text/plain": [
       "<matplotlib.figure.Figure at 0x7f0e0fab5320>"
      ]
     },
     "metadata": {},
     "output_type": "display_data"
    }
   ],
   "source": [
    "font_size = 15\n",
    "\n",
    "df_temp1 = df_timeentry.groupby(['object']).count().id\n",
    "ax = df_temp1.plot(kind='bar', figsize=(8,6), color = 'Darkblue', rot=30)\n",
    "ax.set_xlabel('Request type', fontsize=font_size)\n",
    "ax.set_ylabel('Frequency', fontsize=font_size)\n",
    "ax.set_title('Frequency of requests in the app \\n C:user end W: developer end', fontsize=1.2*font_size)\n",
    "\n",
    "plt.tight_layout()\n",
    "plt.savefig('../../result/iphoneapp/frequency_object_120516.png', transparent=True)"
   ]
  },
  {
   "cell_type": "code",
   "execution_count": 19,
   "metadata": {
    "collapsed": false
   },
   "outputs": [
    {
     "data": {
      "text/html": [
       "<div>\n",
       "<table border=\"1\" class=\"dataframe\">\n",
       "  <thead>\n",
       "    <tr style=\"text-align: right;\">\n",
       "      <th></th>\n",
       "      <th>id</th>\n",
       "      <th>date</th>\n",
       "      <th>object</th>\n",
       "      <th>value</th>\n",
       "      <th>user_id</th>\n",
       "    </tr>\n",
       "    <tr>\n",
       "      <th>action</th>\n",
       "      <th></th>\n",
       "      <th></th>\n",
       "      <th></th>\n",
       "      <th></th>\n",
       "      <th></th>\n",
       "    </tr>\n",
       "  </thead>\n",
       "  <tbody>\n",
       "    <tr>\n",
       "      <th>Answer</th>\n",
       "      <td>70938</td>\n",
       "      <td>70938</td>\n",
       "      <td>70938</td>\n",
       "      <td>70938</td>\n",
       "      <td>70938</td>\n",
       "    </tr>\n",
       "    <tr>\n",
       "      <th>EMRInfoExpanded</th>\n",
       "      <td>43603</td>\n",
       "      <td>43603</td>\n",
       "      <td>43603</td>\n",
       "      <td>43603</td>\n",
       "      <td>43603</td>\n",
       "    </tr>\n",
       "    <tr>\n",
       "      <th>EMRInfoHidden</th>\n",
       "      <td>40626</td>\n",
       "      <td>40626</td>\n",
       "      <td>40626</td>\n",
       "      <td>40626</td>\n",
       "      <td>40626</td>\n",
       "    </tr>\n",
       "    <tr>\n",
       "      <th>Load</th>\n",
       "      <td>1330</td>\n",
       "      <td>1330</td>\n",
       "      <td>1330</td>\n",
       "      <td>1330</td>\n",
       "      <td>1330</td>\n",
       "    </tr>\n",
       "    <tr>\n",
       "      <th>ShowGroup</th>\n",
       "      <td>62802</td>\n",
       "      <td>62802</td>\n",
       "      <td>62802</td>\n",
       "      <td>62802</td>\n",
       "      <td>62802</td>\n",
       "    </tr>\n",
       "  </tbody>\n",
       "</table>\n",
       "</div>"
      ],
      "text/plain": [
       "                    id   date  object  value  user_id\n",
       "action                                               \n",
       "Answer           70938  70938   70938  70938    70938\n",
       "EMRInfoExpanded  43603  43603   43603  43603    43603\n",
       "EMRInfoHidden    40626  40626   40626  40626    40626\n",
       "Load              1330   1330    1330   1330     1330\n",
       "ShowGroup        62802  62802   62802  62802    62802"
      ]
     },
     "execution_count": 19,
     "metadata": {},
     "output_type": "execute_result"
    }
   ],
   "source": [
    "df_timeentry[df_timeentry.object == 'C: PatientDetail'].groupby(['action']).count()"
   ]
  },
  {
   "cell_type": "code",
   "execution_count": 20,
   "metadata": {
    "collapsed": false
   },
   "outputs": [
    {
     "data": {
      "image/png": "[encoded data removed]",
      "text/plain": [
       "<matplotlib.figure.Figure at 0x7f0e0e884550>"
      ]
     },
     "metadata": {},
     "output_type": "display_data"
    }
   ],
   "source": [
    "df_temp2 = df_timeentry[df_timeentry.object == 'C: PatientDetail'].groupby(['action']).count().id\n",
    "ax = df_temp2.plot(kind='bar', figsize=(8,6), color = '#01665e', rot = 30)\n",
    "ax.set_xlabel('Action frequency in object:PatientDetail', fontsize=font_size)\n",
    "ax.set_ylabel('Frequency', fontsize=font_size)\n",
    "ax.set_title('Frequency of actions in patient detail', fontsize=1.2*font_size)\n",
    "\n",
    "plt.tight_layout()\n",
    "plt.savefig('../../result/iphoneapp/frequency_action_patietdetail_120516.png', transparent=True)"
   ]
  },
  {
   "cell_type": "code",
   "execution_count": 21,
   "metadata": {
    "collapsed": false
   },
   "outputs": [
    {
     "data": {
      "text/html": [
       "<div>\n",
       "<table border=\"1\" class=\"dataframe\">\n",
       "  <thead>\n",
       "    <tr style=\"text-align: right;\">\n",
       "      <th></th>\n",
       "      <th>id</th>\n",
       "      <th>date</th>\n",
       "      <th>object</th>\n",
       "      <th>action</th>\n",
       "      <th>user_id</th>\n",
       "    </tr>\n",
       "    <tr>\n",
       "      <th>value</th>\n",
       "      <th></th>\n",
       "      <th></th>\n",
       "      <th></th>\n",
       "      <th></th>\n",
       "      <th></th>\n",
       "    </tr>\n",
       "  </thead>\n",
       "  <tbody>\n",
       "    <tr>\n",
       "      <th>ANTIBIOTICS</th>\n",
       "      <td>6680</td>\n",
       "      <td>6680</td>\n",
       "      <td>6680</td>\n",
       "      <td>6680</td>\n",
       "      <td>6680</td>\n",
       "    </tr>\n",
       "    <tr>\n",
       "      <th>DVT</th>\n",
       "      <td>11775</td>\n",
       "      <td>11775</td>\n",
       "      <td>11775</td>\n",
       "      <td>11775</td>\n",
       "      <td>11775</td>\n",
       "    </tr>\n",
       "    <tr>\n",
       "      <th>LINES_FOOD</th>\n",
       "      <td>14460</td>\n",
       "      <td>14460</td>\n",
       "      <td>14460</td>\n",
       "      <td>14460</td>\n",
       "      <td>14460</td>\n",
       "    </tr>\n",
       "    <tr>\n",
       "      <th>PRESSURE_ULCERS</th>\n",
       "      <td>8386</td>\n",
       "      <td>8386</td>\n",
       "      <td>8386</td>\n",
       "      <td>8386</td>\n",
       "      <td>8386</td>\n",
       "    </tr>\n",
       "    <tr>\n",
       "      <th>VENTILATOR_WEANING</th>\n",
       "      <td>2302</td>\n",
       "      <td>2302</td>\n",
       "      <td>2302</td>\n",
       "      <td>2302</td>\n",
       "      <td>2302</td>\n",
       "    </tr>\n",
       "  </tbody>\n",
       "</table>\n",
       "</div>"
      ],
      "text/plain": [
       "                       id   date  object  action  user_id\n",
       "value                                                    \n",
       "ANTIBIOTICS          6680   6680    6680    6680     6680\n",
       "DVT                 11775  11775   11775   11775    11775\n",
       "LINES_FOOD          14460  14460   14460   14460    14460\n",
       "PRESSURE_ULCERS      8386   8386    8386    8386     8386\n",
       "VENTILATOR_WEANING   2302   2302    2302    2302     2302"
      ]
     },
     "execution_count": 21,
     "metadata": {},
     "output_type": "execute_result"
    }
   ],
   "source": [
    "df_timeentry[df_timeentry.action == 'EMRInfoExpanded'].groupby(['value']).count()"
   ]
  },
  {
   "cell_type": "code",
   "execution_count": 22,
   "metadata": {
    "collapsed": false
   },
   "outputs": [
    {
     "data": {
      "image/png": "[encoded data removed]",
      "text/plain": [
       "<matplotlib.figure.Figure at 0x7f0e0e828160>"
      ]
     },
     "metadata": {},
     "output_type": "display_data"
    }
   ],
   "source": [
    "df_temp3 = df_timeentry[df_timeentry.action == 'EMRInfoExpanded'].groupby(['value']).count().id\n",
    "ax = df_temp3.plot(kind='bar', figsize=(8,6), color = '#1B4F72', rot = 30)\n",
    "ax.set_xlabel('EMR category', fontsize=font_size)\n",
    "ax.set_ylabel('Frequency', fontsize=font_size)\n",
    "ax.set_title('Frequency of expansions for each EMR category', fontsize=1.2*font_size)\n",
    "\n",
    "plt.tight_layout()\n",
    "plt.savefig('../../result/iphoneapp/frequency_action_emrinfo_120516.png', transparent=True)"
   ]
  },
  {
   "cell_type": "code",
   "execution_count": 23,
   "metadata": {
    "collapsed": false
   },
   "outputs": [
    {
     "data": {
      "text/html": [
       "<div>\n",
       "<table border=\"1\" class=\"dataframe\">\n",
       "  <thead>\n",
       "    <tr style=\"text-align: right;\">\n",
       "      <th></th>\n",
       "      <th>id</th>\n",
       "      <th>date</th>\n",
       "      <th>object</th>\n",
       "      <th>action</th>\n",
       "      <th>user_id</th>\n",
       "    </tr>\n",
       "    <tr>\n",
       "      <th>value</th>\n",
       "      <th></th>\n",
       "      <th></th>\n",
       "      <th></th>\n",
       "      <th></th>\n",
       "      <th></th>\n",
       "    </tr>\n",
       "  </thead>\n",
       "  <tbody>\n",
       "    <tr>\n",
       "      <th>01</th>\n",
       "      <td>7741</td>\n",
       "      <td>7741</td>\n",
       "      <td>7741</td>\n",
       "      <td>7741</td>\n",
       "      <td>7741</td>\n",
       "    </tr>\n",
       "    <tr>\n",
       "      <th>03</th>\n",
       "      <td>13933</td>\n",
       "      <td>13933</td>\n",
       "      <td>13933</td>\n",
       "      <td>13933</td>\n",
       "      <td>13933</td>\n",
       "    </tr>\n",
       "    <tr>\n",
       "      <th>06</th>\n",
       "      <td>10796</td>\n",
       "      <td>10796</td>\n",
       "      <td>10796</td>\n",
       "      <td>10796</td>\n",
       "      <td>10796</td>\n",
       "    </tr>\n",
       "    <tr>\n",
       "      <th>07</th>\n",
       "      <td>13375</td>\n",
       "      <td>13375</td>\n",
       "      <td>13375</td>\n",
       "      <td>13375</td>\n",
       "      <td>13375</td>\n",
       "    </tr>\n",
       "    <tr>\n",
       "      <th>08</th>\n",
       "      <td>15088</td>\n",
       "      <td>15088</td>\n",
       "      <td>15088</td>\n",
       "      <td>15088</td>\n",
       "      <td>15088</td>\n",
       "    </tr>\n",
       "    <tr>\n",
       "      <th>10</th>\n",
       "      <td>1869</td>\n",
       "      <td>1869</td>\n",
       "      <td>1869</td>\n",
       "      <td>1869</td>\n",
       "      <td>1869</td>\n",
       "    </tr>\n",
       "  </tbody>\n",
       "</table>\n",
       "</div>"
      ],
      "text/plain": [
       "          id   date  object  action  user_id\n",
       "value                                       \n",
       "01      7741   7741    7741    7741     7741\n",
       "03     13933  13933   13933   13933    13933\n",
       "06     10796  10796   10796   10796    10796\n",
       "07     13375  13375   13375   13375    13375\n",
       "08     15088  15088   15088   15088    15088\n",
       "10      1869   1869    1869    1869     1869"
      ]
     },
     "execution_count": 23,
     "metadata": {},
     "output_type": "execute_result"
    }
   ],
   "source": [
    "df_timeentry[df_timeentry.action == 'ShowGroup'].groupby(['value']).count()"
   ]
  },
  {
   "cell_type": "code",
   "execution_count": 24,
   "metadata": {
    "collapsed": false
   },
   "outputs": [
    {
     "data": {
      "image/png": "[encoded data removed]",
      "text/plain": [
       "<matplotlib.figure.Figure at 0x7f0e0e6e5588>"
      ]
     },
     "metadata": {},
     "output_type": "display_data"
    }
   ],
   "source": [
    "df_temp4 = df_timeentry[df_timeentry.action == 'ShowGroup'].groupby(['value']).count().id\n",
    "ax = df_temp4.plot(kind='bar', figsize=(8,6), color = '#641E16', rot = 30)\n",
    "ax.set_xlabel('Swipe to', fontsize=font_size)\n",
    "ax.set_ylabel('Frequency', fontsize=font_size)\n",
    "#changeing the lables. {01: Ventilation, 03: Vascular, 06: Antibiotics, 07: DVT, 08: PRessure_ulcers, 10: Apache}\n",
    "tick_labels = ['Ventilation', 'Vascular Access \\n Urinary Catheter', 'Antibiotics', 'DVT', 'Pressure Ulcers', 'APACHE']\n",
    "ax.set_xticklabels(tick_labels)\n",
    "ax.set_title('Frequency of swipes for each EMR category', fontsize=1.2*font_size)\n",
    "plt.tight_layout()\n",
    "plt.savefig('../../result/iphoneapp/frequency_action_swipe_120516.png', transparent=True)"
   ]
  },
  {
   "cell_type": "markdown",
   "metadata": {},
   "source": [
    "## Most frequently answered questions "
   ]
  },
  {
   "cell_type": "code",
   "execution_count": 25,
   "metadata": {
    "collapsed": false,
    "scrolled": true
   },
   "outputs": [],
   "source": [
    "df_answer = df_response.question_id\n"
   ]
  },
  {
   "cell_type": "code",
   "execution_count": 34,
   "metadata": {
    "collapsed": false
   },
   "outputs": [
    {
     "ename": "AttributeError",
     "evalue": "'Series' object has no attribute 'user_id'",
     "output_type": "error",
     "traceback": [
      "\u001b[1;31m---------------------------------------------------------------------------\u001b[0m",
      "\u001b[1;31mAttributeError\u001b[0m                            Traceback (most recent call last)",
      "\u001b[1;32m<ipython-input-34-9457f260c6be>\u001b[0m in \u001b[0;36m<module>\u001b[1;34m()\u001b[0m\n\u001b[1;32m----> 1\u001b[1;33m \u001b[0mphysicians_answered_questions\u001b[0m \u001b[1;33m=\u001b[0m \u001b[0msorted\u001b[0m\u001b[1;33m(\u001b[0m\u001b[1;33m(\u001b[0m\u001b[0mdf_answer\u001b[0m\u001b[1;33m.\u001b[0m\u001b[0muser_id\u001b[0m\u001b[1;33m.\u001b[0m\u001b[0munique\u001b[0m\u001b[1;33m(\u001b[0m\u001b[1;33m)\u001b[0m\u001b[1;33m.\u001b[0m\u001b[0mtolist\u001b[0m\u001b[1;33m(\u001b[0m\u001b[1;33m)\u001b[0m\u001b[1;33m)\u001b[0m\u001b[1;33m)\u001b[0m\u001b[1;33m\u001b[0m\u001b[0m\n\u001b[0m\u001b[0;32m      2\u001b[0m \u001b[0mphysicians_used_app\u001b[0m \u001b[1;33m=\u001b[0m \u001b[0msorted\u001b[0m\u001b[1;33m(\u001b[0m\u001b[0mdf_timeentry\u001b[0m\u001b[1;33m.\u001b[0m\u001b[0muser_id\u001b[0m\u001b[1;33m.\u001b[0m\u001b[0munique\u001b[0m\u001b[1;33m(\u001b[0m\u001b[1;33m)\u001b[0m\u001b[1;33m.\u001b[0m\u001b[0mtolist\u001b[0m\u001b[1;33m(\u001b[0m\u001b[1;33m)\u001b[0m\u001b[1;33m)\u001b[0m\u001b[1;33m\u001b[0m\u001b[0m\n\u001b[0;32m      3\u001b[0m \u001b[0mphysicians_used_info\u001b[0m \u001b[1;33m=\u001b[0m \u001b[0msorted\u001b[0m\u001b[1;33m(\u001b[0m\u001b[1;33m[\u001b[0m\u001b[0mdoc\u001b[0m \u001b[1;32mfor\u001b[0m \u001b[0mdoc\u001b[0m \u001b[1;32min\u001b[0m \u001b[0mphysicians_used_app\u001b[0m \u001b[1;32mif\u001b[0m \u001b[0mdoc\u001b[0m \u001b[1;32mnot\u001b[0m \u001b[1;32min\u001b[0m \u001b[0mphysicians_answered_questions\u001b[0m\u001b[1;33m]\u001b[0m\u001b[1;33m)\u001b[0m\u001b[1;33m\u001b[0m\u001b[0m\n\u001b[0;32m      4\u001b[0m \u001b[0mphysicians_not_used_app\u001b[0m \u001b[1;33m=\u001b[0m \u001b[0msorted\u001b[0m\u001b[1;33m(\u001b[0m\u001b[1;33m[\u001b[0m\u001b[0mdoc\u001b[0m \u001b[1;32mfor\u001b[0m \u001b[0mdoc\u001b[0m \u001b[1;32min\u001b[0m \u001b[0muser_id_list\u001b[0m \u001b[1;32mif\u001b[0m \u001b[0mdoc\u001b[0m \u001b[1;32mnot\u001b[0m \u001b[1;32min\u001b[0m \u001b[0mphysicians_used_app\u001b[0m\u001b[1;33m]\u001b[0m\u001b[1;33m)\u001b[0m\u001b[1;33m\u001b[0m\u001b[0m\n\u001b[0;32m      5\u001b[0m \u001b[1;33m\u001b[0m\u001b[0m\n",
      "\u001b[1;32m/home/staff/junelee/.pyenv/versions/doi_hospital/lib/python3.4/site-packages/pandas/core/generic.py\u001b[0m in \u001b[0;36m__getattr__\u001b[1;34m(self, name)\u001b[0m\n\u001b[0;32m   2670\u001b[0m             \u001b[1;32mif\u001b[0m \u001b[0mname\u001b[0m \u001b[1;32min\u001b[0m \u001b[0mself\u001b[0m\u001b[1;33m.\u001b[0m\u001b[0m_info_axis\u001b[0m\u001b[1;33m:\u001b[0m\u001b[1;33m\u001b[0m\u001b[0m\n\u001b[0;32m   2671\u001b[0m                 \u001b[1;32mreturn\u001b[0m \u001b[0mself\u001b[0m\u001b[1;33m[\u001b[0m\u001b[0mname\u001b[0m\u001b[1;33m]\u001b[0m\u001b[1;33m\u001b[0m\u001b[0m\n\u001b[1;32m-> 2672\u001b[1;33m             \u001b[1;32mreturn\u001b[0m \u001b[0mobject\u001b[0m\u001b[1;33m.\u001b[0m\u001b[0m__getattribute__\u001b[0m\u001b[1;33m(\u001b[0m\u001b[0mself\u001b[0m\u001b[1;33m,\u001b[0m \u001b[0mname\u001b[0m\u001b[1;33m)\u001b[0m\u001b[1;33m\u001b[0m\u001b[0m\n\u001b[0m\u001b[0;32m   2673\u001b[0m \u001b[1;33m\u001b[0m\u001b[0m\n\u001b[0;32m   2674\u001b[0m     \u001b[1;32mdef\u001b[0m \u001b[0m__setattr__\u001b[0m\u001b[1;33m(\u001b[0m\u001b[0mself\u001b[0m\u001b[1;33m,\u001b[0m \u001b[0mname\u001b[0m\u001b[1;33m,\u001b[0m \u001b[0mvalue\u001b[0m\u001b[1;33m)\u001b[0m\u001b[1;33m:\u001b[0m\u001b[1;33m\u001b[0m\u001b[0m\n",
      "\u001b[1;31mAttributeError\u001b[0m: 'Series' object has no attribute 'user_id'"
     ]
    }
   ],
   "source": [
    "physicians_answered_questions = sorted((df_answer.user_id.unique().tolist()))\n",
    "physicians_used_app = sorted(df_timeentry.user_id.unique().tolist())\n",
    "physicians_used_info = sorted([doc for doc in physicians_used_app if doc not in physicians_answered_questions])\n",
    "physicians_not_used_app = sorted([doc for doc in user_id_list if doc not in physicians_used_app])\n",
    "\n",
    "print('Physicians who have used and answered the questions: ', physicians_answered_questions)\n",
    "print('Physicians who only used the emr info: ', physicians_used_info)\n",
    "print('Physicians who never used the app: ', physicians_not_used_app)\n",
    "print('Physicians in the response table: ', sorted(df_response.user_id.unique().tolist()))\n"
   ]
  },
  {
   "cell_type": "code",
   "execution_count": 42,
   "metadata": {
    "collapsed": false,
    "scrolled": true
   },
   "outputs": [
    {
     "ename": "AttributeError",
     "evalue": "'Series' object has no attribute 'value'",
     "output_type": "error",
     "traceback": [
      "\u001b[1;31m---------------------------------------------------------------------------\u001b[0m",
      "\u001b[1;31mAttributeError\u001b[0m                            Traceback (most recent call last)",
      "\u001b[1;32m<ipython-input-42-aa2be0864f8a>\u001b[0m in \u001b[0;36m<module>\u001b[1;34m()\u001b[0m\n\u001b[1;32m----> 1\u001b[1;33m \u001b[0mdf_answer\u001b[0m\u001b[1;33m[\u001b[0m\u001b[0mdf_answer\u001b[0m\u001b[1;33m.\u001b[0m\u001b[0mvalue\u001b[0m\u001b[1;33m.\u001b[0m\u001b[0msplit\u001b[0m\u001b[1;33m(\u001b[0m\u001b[1;33m)\u001b[0m\u001b[1;33m[\u001b[0m\u001b[1;36m2\u001b[0m\u001b[1;33m]\u001b[0m \u001b[1;33m==\u001b[0m \u001b[1;34m'Q:0102'\u001b[0m\u001b[1;33m]\u001b[0m\u001b[1;33m\u001b[0m\u001b[0m\n\u001b[0m",
      "\u001b[1;32m/home/staff/junelee/.pyenv/versions/doi_hospital/lib/python3.4/site-packages/pandas/core/generic.py\u001b[0m in \u001b[0;36m__getattr__\u001b[1;34m(self, name)\u001b[0m\n\u001b[0;32m   2670\u001b[0m             \u001b[1;32mif\u001b[0m \u001b[0mname\u001b[0m \u001b[1;32min\u001b[0m \u001b[0mself\u001b[0m\u001b[1;33m.\u001b[0m\u001b[0m_info_axis\u001b[0m\u001b[1;33m:\u001b[0m\u001b[1;33m\u001b[0m\u001b[0m\n\u001b[0;32m   2671\u001b[0m                 \u001b[1;32mreturn\u001b[0m \u001b[0mself\u001b[0m\u001b[1;33m[\u001b[0m\u001b[0mname\u001b[0m\u001b[1;33m]\u001b[0m\u001b[1;33m\u001b[0m\u001b[0m\n\u001b[1;32m-> 2672\u001b[1;33m             \u001b[1;32mreturn\u001b[0m \u001b[0mobject\u001b[0m\u001b[1;33m.\u001b[0m\u001b[0m__getattribute__\u001b[0m\u001b[1;33m(\u001b[0m\u001b[0mself\u001b[0m\u001b[1;33m,\u001b[0m \u001b[0mname\u001b[0m\u001b[1;33m)\u001b[0m\u001b[1;33m\u001b[0m\u001b[0m\n\u001b[0m\u001b[0;32m   2673\u001b[0m \u001b[1;33m\u001b[0m\u001b[0m\n\u001b[0;32m   2674\u001b[0m     \u001b[1;32mdef\u001b[0m \u001b[0m__setattr__\u001b[0m\u001b[1;33m(\u001b[0m\u001b[0mself\u001b[0m\u001b[1;33m,\u001b[0m \u001b[0mname\u001b[0m\u001b[1;33m,\u001b[0m \u001b[0mvalue\u001b[0m\u001b[1;33m)\u001b[0m\u001b[1;33m:\u001b[0m\u001b[1;33m\u001b[0m\u001b[0m\n",
      "\u001b[1;31mAttributeError\u001b[0m: 'Series' object has no attribute 'value'"
     ]
    }
   ],
   "source": [
    "df_answer[df_answer.value.split()[2] == 'Q:0102']"
   ]
  },
  {
   "cell_type": "code",
   "execution_count": 43,
   "metadata": {
    "collapsed": false
   },
   "outputs": [],
   "source": [
    "#see how may times each question was answered\n",
    "answer_dictionary = {}\n",
    "\n",
    "for question_id in df_answer:\n",
    "    if '$' in question_id:\n",
    "        question_id = question_id[1:]\n",
    "    if question_id not in answer_dictionary.keys():\n",
    "        answer_dictionary[question_id] = 0\n",
    "    answer_dictionary[question_id] += 1\n"
   ]
  },
  {
   "cell_type": "code",
   "execution_count": 44,
   "metadata": {
    "collapsed": false
   },
   "outputs": [
    {
     "data": {
      "text/plain": [
       "{'0101': 151,\n",
       " '0102': 32,\n",
       " '0201': 127,\n",
       " '0202': 82,\n",
       " '0203': 44,\n",
       " '0204': 1,\n",
       " '0301': 412,\n",
       " '0401': 393,\n",
       " '0501': 421,\n",
       " '0601': 311,\n",
       " '0701': 403,\n",
       " '0702': 433,\n",
       " '0801': 426}"
      ]
     },
     "execution_count": 44,
     "metadata": {},
     "output_type": "execute_result"
    }
   ],
   "source": [
    "answer_dictionary"
   ]
  },
  {
   "cell_type": "code",
   "execution_count": 45,
   "metadata": {
    "collapsed": false
   },
   "outputs": [],
   "source": [
    "#['0101', '0102', '0201', '0202', '0203', '0301', '0401', '0501', '0601', '0701', '0702', '0801']\n",
    "question_id_match_explanation = ['SAT \\n performed?','SAT \\n appropriate?', 'SBT \\n performed?', \\\n",
    "                                 'Can \\n extubate?', 'SBT \\n appropriate?', \\\n",
    "                                 'Remove \\n central venous?','Remove \\n urinary catheter?', \\\n",
    "                                 'Increase \\n nutrition?', 'Less \\n antibiotics?', \\\n",
    "                                 'DVT \\n chemoprophylaxis?', 'Increase \\n mobility?', \\\n",
    "                                 'Pressure \\n ulcers?']"
   ]
  },
  {
   "cell_type": "code",
   "execution_count": 46,
   "metadata": {
    "collapsed": false
   },
   "outputs": [
    {
     "data": {
      "image/png": "[encoded data removed]",
      "text/plain": [
       "<matplotlib.figure.Figure at 0x7fdb23d4c4a8>"
      ]
     },
     "metadata": {},
     "output_type": "display_data"
    }
   ],
   "source": [
    "fig, ax = plt.subplots(figsize=(14, 6))\n",
    "font_size = 15\n",
    "\n",
    "barlist = plt.bar(range(len(answer_dictionary)), answer_dictionary.values(), align='center')\n",
    "\n",
    "#bar colors different fo different group\n",
    "colorlist = plt.cm.viridis(np.linspace(0,1,5))\n",
    "barlist[0].set_color(colorlist[0])\n",
    "barlist[1].set_color(colorlist[0])\n",
    "barlist[2].set_color(colorlist[0])\n",
    "barlist[3].set_color(colorlist[0])\n",
    "barlist[4].set_color(colorlist[0])\n",
    "barlist[5].set_color(colorlist[1])\n",
    "barlist[6].set_color(colorlist[1])\n",
    "barlist[7].set_color(colorlist[1])\n",
    "barlist[8].set_color(colorlist[2])\n",
    "barlist[9].set_color(colorlist[3])\n",
    "barlist[10].set_color(colorlist[3])\n",
    "barlist[11].set_color(colorlist[4])\n",
    "\n",
    "\n",
    "plt.xticks(range(len(answer_dictionary)), question_id_match_explanation, rotation=30, fontsize=0.8*font_size)\n",
    "plt.xlim([-1, 12])\n",
    "plt.tight_layout()\n",
    "plt.ylabel('Frequency', fontsize=font_size)\n",
    "plt.xlabel('Question', fontsize=font_size)\n",
    "plt.title('Frequency of answers to each category, Y/N', fontsize=1.2*font_size)\n",
    "plt.tight_layout()\n",
    "plt.savefig('../../result/iphoneapp/frequency_answer_group_111816.png', transparent=True)"
   ]
  },
  {
   "cell_type": "code",
   "execution_count": null,
   "metadata": {
    "collapsed": true
   },
   "outputs": [],
   "source": []
  },
  {
   "cell_type": "code",
   "execution_count": null,
   "metadata": {
    "collapsed": true
   },
   "outputs": [],
   "source": []
  },
  {
   "cell_type": "code",
   "execution_count": null,
   "metadata": {
    "collapsed": true
   },
   "outputs": [],
   "source": []
  },
  {
   "cell_type": "code",
   "execution_count": null,
   "metadata": {
    "collapsed": true
   },
   "outputs": [],
   "source": []
  },
  {
   "cell_type": "code",
   "execution_count": null,
   "metadata": {
    "collapsed": true
   },
   "outputs": [],
   "source": []
  },
  {
   "cell_type": "code",
   "execution_count": null,
   "metadata": {
    "collapsed": true
   },
   "outputs": [],
   "source": []
  },
  {
   "cell_type": "code",
   "execution_count": null,
   "metadata": {
    "collapsed": true
   },
   "outputs": [],
   "source": []
  },
  {
   "cell_type": "code",
   "execution_count": null,
   "metadata": {
    "collapsed": true
   },
   "outputs": [],
   "source": []
  },
  {
   "cell_type": "code",
   "execution_count": null,
   "metadata": {
    "collapsed": true
   },
   "outputs": [],
   "source": []
  },
  {
   "cell_type": "code",
   "execution_count": null,
   "metadata": {
    "collapsed": true
   },
   "outputs": [],
   "source": []
  },
  {
   "cell_type": "code",
   "execution_count": null,
   "metadata": {
    "collapsed": true
   },
   "outputs": [],
   "source": []
  },
  {
   "cell_type": "code",
   "execution_count": null,
   "metadata": {
    "collapsed": true
   },
   "outputs": [],
   "source": []
  },
  {
   "cell_type": "code",
   "execution_count": null,
   "metadata": {
    "collapsed": true
   },
   "outputs": [],
   "source": []
  },
  {
   "cell_type": "code",
   "execution_count": null,
   "metadata": {
    "collapsed": true
   },
   "outputs": [],
   "source": []
  },
  {
   "cell_type": "code",
   "execution_count": null,
   "metadata": {
    "collapsed": true
   },
   "outputs": [],
   "source": []
  },
  {
   "cell_type": "code",
   "execution_count": null,
   "metadata": {
    "collapsed": true
   },
   "outputs": [],
   "source": []
  },
  {
   "cell_type": "code",
   "execution_count": null,
   "metadata": {
    "collapsed": true
   },
   "outputs": [],
   "source": []
  },
  {
   "cell_type": "code",
   "execution_count": null,
   "metadata": {
    "collapsed": true
   },
   "outputs": [],
   "source": []
  },
  {
   "cell_type": "code",
   "execution_count": null,
   "metadata": {
    "collapsed": true
   },
   "outputs": [],
   "source": []
  },
  {
   "cell_type": "code",
   "execution_count": null,
   "metadata": {
    "collapsed": true
   },
   "outputs": [],
   "source": []
  },
  {
   "cell_type": "code",
   "execution_count": null,
   "metadata": {
    "collapsed": true
   },
   "outputs": [],
   "source": []
  },
  {
   "cell_type": "code",
   "execution_count": null,
   "metadata": {
    "collapsed": true
   },
   "outputs": [],
   "source": []
  },
  {
   "cell_type": "code",
   "execution_count": null,
   "metadata": {
    "collapsed": true
   },
   "outputs": [],
   "source": []
  },
  {
   "cell_type": "code",
   "execution_count": null,
   "metadata": {
    "collapsed": true
   },
   "outputs": [],
   "source": []
  },
  {
   "cell_type": "code",
   "execution_count": null,
   "metadata": {
    "collapsed": true
   },
   "outputs": [],
   "source": []
  },
  {
   "cell_type": "code",
   "execution_count": null,
   "metadata": {
    "collapsed": true
   },
   "outputs": [],
   "source": []
  },
  {
   "cell_type": "code",
   "execution_count": null,
   "metadata": {
    "collapsed": true
   },
   "outputs": [],
   "source": []
  },
  {
   "cell_type": "code",
   "execution_count": null,
   "metadata": {
    "collapsed": true
   },
   "outputs": [],
   "source": []
  },
  {
   "cell_type": "code",
   "execution_count": null,
   "metadata": {
    "collapsed": true
   },
   "outputs": [],
   "source": []
  },
  {
   "cell_type": "code",
   "execution_count": null,
   "metadata": {
    "collapsed": true
   },
   "outputs": [],
   "source": []
  },
  {
   "cell_type": "code",
   "execution_count": null,
   "metadata": {
    "collapsed": true
   },
   "outputs": [],
   "source": []
  },
  {
   "cell_type": "code",
   "execution_count": null,
   "metadata": {
    "collapsed": true
   },
   "outputs": [],
   "source": []
  },
  {
   "cell_type": "code",
   "execution_count": null,
   "metadata": {
    "collapsed": true
   },
   "outputs": [],
   "source": []
  },
  {
   "cell_type": "code",
   "execution_count": null,
   "metadata": {
    "collapsed": true
   },
   "outputs": [],
   "source": []
  },
  {
   "cell_type": "code",
   "execution_count": null,
   "metadata": {
    "collapsed": true
   },
   "outputs": [],
   "source": []
  },
  {
   "cell_type": "code",
   "execution_count": null,
   "metadata": {
    "collapsed": true
   },
   "outputs": [],
   "source": []
  },
  {
   "cell_type": "code",
   "execution_count": null,
   "metadata": {
    "collapsed": true
   },
   "outputs": [],
   "source": []
  },
  {
   "cell_type": "code",
   "execution_count": null,
   "metadata": {
    "collapsed": true
   },
   "outputs": [],
   "source": []
  },
  {
   "cell_type": "code",
   "execution_count": null,
   "metadata": {
    "collapsed": true
   },
   "outputs": [],
   "source": []
  },
  {
   "cell_type": "code",
   "execution_count": null,
   "metadata": {
    "collapsed": true
   },
   "outputs": [],
   "source": []
  },
  {
   "cell_type": "code",
   "execution_count": null,
   "metadata": {
    "collapsed": true
   },
   "outputs": [],
   "source": []
  },
  {
   "cell_type": "code",
   "execution_count": null,
   "metadata": {
    "collapsed": true
   },
   "outputs": [],
   "source": [
    "\n"
   ]
  }
 ],
 "metadata": {
  "kernelspec": {
   "display_name": "Python 3",
   "language": "python",
   "name": "python3"
  },
  "language_info": {
   "codemirror_mode": {
    "name": "ipython",
    "version": 3
   },
   "file_extension": ".py",
   "mimetype": "text/x-python",
   "name": "python",
   "nbconvert_exporter": "python",
   "pygments_lexer": "ipython3",
   "version": "3.5.2"
  }
 },
 "nbformat": 4,
 "nbformat_minor": 0
}
