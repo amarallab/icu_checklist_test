{
 "cells": [
  {
   "cell_type": "code",
   "execution_count": 1,
   "metadata": {
    "collapsed": false
   },
   "outputs": [
    {
     "data": {
      "text/plain": [
       "'\\nReading basic data from iphone inputs\\n'"
      ]
     },
     "execution_count": 1,
     "metadata": {},
     "output_type": "execute_result"
    }
   ],
   "source": [
    "'''\n",
    "Reading basic data from iphone inputs\n",
    "'''"
   ]
  },
  {
   "cell_type": "code",
   "execution_count": 2,
   "metadata": {
    "collapsed": false
   },
   "outputs": [],
   "source": [
    "%load_ext autoreload\n",
    "%autoreload 2\n",
    "%matplotlib inline"
   ]
  },
  {
   "cell_type": "code",
   "execution_count": 3,
   "metadata": {
    "collapsed": false
   },
   "outputs": [],
   "source": [
    "import datetime\n",
    "import os\n",
    "import sys\n",
    "from operator import itemgetter\n",
    "import random\n",
    "from optparse import OptionParser\n",
    "from copy import copy\n",
    "import numpy as np\n",
    "from scipy.stats import kstest, mstats\n",
    "import string\n",
    "import pandas as pd\n",
    "import matplotlib.pyplot as plt\n",
    "import itertools\n",
    "import matplotlib.colors as colors\n",
    "import matplotlib.cm as cmx\n",
    "from collections import defaultdict\n",
    "# import pymc as pm\n",
    "\n",
    "src_dir = os.path.abspath(os.path.join(os.pardir, os.pardir, 'src'))\n",
    "sys.path[0] = src_dir\n",
    "import parsers.checklistevaluator as checkeval"
   ]
  },
  {
   "cell_type": "code",
   "execution_count": 4,
   "metadata": {
    "collapsed": true
   },
   "outputs": [],
   "source": [
    "patient_file = '../../data/iphone_responses/backend_patient.csv'\n",
    "dtypes = [string]"
   ]
  },
  {
   "cell_type": "code",
   "execution_count": 5,
   "metadata": {
    "collapsed": false,
    "scrolled": true
   },
   "outputs": [],
   "source": [
    "df_patient = pd.read_csv(patient_file)\n",
    "patient_list = df_patient.hash_fin.tolist()"
   ]
  },
  {
   "cell_type": "code",
   "execution_count": 6,
   "metadata": {
    "collapsed": false
   },
   "outputs": [],
   "source": [
    "user_file = '../../data/iphone_responses/auth_user.csv'\n",
    "dtypes = [int, string, datetime, int, string, string, string, string, int, int, datetime]"
   ]
  },
  {
   "cell_type": "code",
   "execution_count": 7,
   "metadata": {
    "collapsed": false
   },
   "outputs": [
    {
     "data": {
      "text/plain": [
       "0    2\n",
       "1    3\n",
       "2    4\n",
       "3    5\n",
       "4    7\n",
       "5    8\n",
       "Name: id, dtype: int64"
      ]
     },
     "execution_count": 7,
     "metadata": {},
     "output_type": "execute_result"
    }
   ],
   "source": [
    "df_user = pd.read_csv(user_file, parse_dates=['last_login', 'date_joined'])\n",
    "admin_list = ['anna', 'john', 'mbechel1', 'memorial', 'admin', 'nm175316']\n",
    "df_user[df_user.username.isin(admin_list)].id"
   ]
  },
  {
   "cell_type": "code",
   "execution_count": 8,
   "metadata": {
    "collapsed": false,
    "scrolled": true
   },
   "outputs": [],
   "source": [
    "df_user = df_user[~df_user['username'].isin(admin_list)]"
   ]
  },
  {
   "cell_type": "code",
   "execution_count": 9,
   "metadata": {
    "collapsed": false
   },
   "outputs": [],
   "source": [
    "user_list = df_user.username.unique().tolist()"
   ]
  },
  {
   "cell_type": "code",
   "execution_count": 10,
   "metadata": {
    "collapsed": false,
    "scrolled": true
   },
   "outputs": [],
   "source": [
    "user_id_list = df_user[df_user.username.isin(user_list)]['id'].unique().tolist()"
   ]
  },
  {
   "cell_type": "code",
   "execution_count": 11,
   "metadata": {
    "collapsed": false,
    "scrolled": true
   },
   "outputs": [],
   "source": [
    "response_file = '../../data/iphone_responses/backend_patientresponse.csv'\n",
    "dtypes = {'id': int, 'question_id': str, 'workday': str, \n",
    "          'response': str, 'date': str, 'patient_id': str, 'checklist_id': int, 'user_id': int}\n",
    "df_response = pd.read_csv(response_file, parse_dates=['date'],dtype=dtypes)\n",
    "df_response = df_response[466:]\n",
    "df_response = df_response[df_response['user_id'].isin(user_id_list)]"
   ]
  },
  {
   "cell_type": "code",
   "execution_count": 12,
   "metadata": {
    "collapsed": false,
    "scrolled": true
   },
   "outputs": [
    {
     "data": {
      "text/plain": [
       "'0701'"
      ]
     },
     "execution_count": 12,
     "metadata": {},
     "output_type": "execute_result"
    }
   ],
   "source": [
    "df_response.question_id.iloc[0]"
   ]
  },
  {
   "cell_type": "markdown",
   "metadata": {
    "collapsed": true
   },
   "source": [
    "### Doctor-Patient\n",
    "which doctors were in charge of which patient?\n",
    "were there ever an overlapping?"
   ]
  },
  {
   "cell_type": "code",
   "execution_count": 13,
   "metadata": {
    "collapsed": true
   },
   "outputs": [],
   "source": [
    "question_list = df_response.question_id.unique().tolist()"
   ]
  },
  {
   "cell_type": "code",
   "execution_count": 14,
   "metadata": {
    "collapsed": true
   },
   "outputs": [],
   "source": [
    "doctor_patient_dict = {doc: [] for doc in user_id_list}\n",
    "patient_doctor_dict = {pat: [] for pat in patient_list}"
   ]
  },
  {
   "cell_type": "code",
   "execution_count": 15,
   "metadata": {
    "collapsed": false
   },
   "outputs": [],
   "source": [
    "for index, row in df_response.iterrows():\n",
    "    doc = row.user_id\n",
    "    pat = row.patient_id\n",
    "    #gettign the list of patient that the doctor had\n",
    "    if pat not in doctor_patient_dict[doc]:\n",
    "        doctor_patient_dict[doc].append(pat)\n",
    "    #getting the list of doctors the patient had\n",
    "    if doc not in patient_doctor_dict[pat]:\n",
    "        patient_doctor_dict[pat].append(doc)"
   ]
  },
  {
   "cell_type": "code",
   "execution_count": 16,
   "metadata": {
    "collapsed": false,
    "scrolled": true
   },
   "outputs": [
    {
     "name": "stdout",
     "output_type": "stream",
     "text": [
      "<class 'str'>\n"
     ]
    }
   ],
   "source": [
    "date_list = df_response.workday.astype(datetime.datetime).unique().tolist()\n",
    "print(type(date_list[0]))"
   ]
  },
  {
   "cell_type": "code",
   "execution_count": 17,
   "metadata": {
    "collapsed": false
   },
   "outputs": [],
   "source": [
    "doc_pat_answer_dict = {doc: {p: [] for p in pats}\n",
    "                            for doc, pats in doctor_patient_dict.items()} "
   ]
  },
  {
   "cell_type": "code",
   "execution_count": 18,
   "metadata": {
    "collapsed": false
   },
   "outputs": [
    {
     "data": {
      "text/plain": [
       "False"
      ]
     },
     "execution_count": 18,
     "metadata": {},
     "output_type": "execute_result"
    }
   ],
   "source": [
    "bool(doc_pat_answer_dict[10])"
   ]
  },
  {
   "cell_type": "code",
   "execution_count": 19,
   "metadata": {
    "collapsed": false
   },
   "outputs": [
    {
     "data": {
      "text/html": [
       "<div>\n",
       "<table border=\"1\" class=\"dataframe\">\n",
       "  <thead>\n",
       "    <tr style=\"text-align: right;\">\n",
       "      <th></th>\n",
       "      <th>id</th>\n",
       "      <th>question_id</th>\n",
       "      <th>workday</th>\n",
       "      <th>response</th>\n",
       "      <th>date</th>\n",
       "      <th>patient_id</th>\n",
       "      <th>checklist_id</th>\n",
       "      <th>user_id</th>\n",
       "    </tr>\n",
       "  </thead>\n",
       "  <tbody>\n",
       "    <tr>\n",
       "      <th>3752</th>\n",
       "      <td>3765</td>\n",
       "      <td>$0101</td>\n",
       "      <td>2016-11-18</td>\n",
       "      <td>Y</td>\n",
       "      <td>2016-11-18 15:50:15</td>\n",
       "      <td>fa4c24ee999d3cae5074d01de8c01256527143f2</td>\n",
       "      <td>3</td>\n",
       "      <td>58</td>\n",
       "    </tr>\n",
       "    <tr>\n",
       "      <th>3753</th>\n",
       "      <td>3766</td>\n",
       "      <td>$0201</td>\n",
       "      <td>2016-11-18</td>\n",
       "      <td>Y</td>\n",
       "      <td>2016-11-18 15:50:20</td>\n",
       "      <td>fa4c24ee999d3cae5074d01de8c01256527143f2</td>\n",
       "      <td>3</td>\n",
       "      <td>58</td>\n",
       "    </tr>\n",
       "    <tr>\n",
       "      <th>3754</th>\n",
       "      <td>3767</td>\n",
       "      <td>$0203</td>\n",
       "      <td>2016-11-18</td>\n",
       "      <td>N</td>\n",
       "      <td>2016-11-18 15:50:18</td>\n",
       "      <td>fa4c24ee999d3cae5074d01de8c01256527143f2</td>\n",
       "      <td>3</td>\n",
       "      <td>58</td>\n",
       "    </tr>\n",
       "    <tr>\n",
       "      <th>3755</th>\n",
       "      <td>3768</td>\n",
       "      <td>$0202</td>\n",
       "      <td>2016-11-18</td>\n",
       "      <td>N</td>\n",
       "      <td>2016-11-18 15:50:21</td>\n",
       "      <td>fa4c24ee999d3cae5074d01de8c01256527143f2</td>\n",
       "      <td>3</td>\n",
       "      <td>58</td>\n",
       "    </tr>\n",
       "    <tr>\n",
       "      <th>3756</th>\n",
       "      <td>3769</td>\n",
       "      <td>$0801</td>\n",
       "      <td>2016-11-18</td>\n",
       "      <td>Y</td>\n",
       "      <td>2016-11-18 15:50:24</td>\n",
       "      <td>fa4c24ee999d3cae5074d01de8c01256527143f2</td>\n",
       "      <td>3</td>\n",
       "      <td>58</td>\n",
       "    </tr>\n",
       "    <tr>\n",
       "      <th>3757</th>\n",
       "      <td>3770</td>\n",
       "      <td>$0601</td>\n",
       "      <td>2016-11-18</td>\n",
       "      <td>N</td>\n",
       "      <td>2016-11-18 15:50:32</td>\n",
       "      <td>fa4c24ee999d3cae5074d01de8c01256527143f2</td>\n",
       "      <td>3</td>\n",
       "      <td>58</td>\n",
       "    </tr>\n",
       "    <tr>\n",
       "      <th>3758</th>\n",
       "      <td>3771</td>\n",
       "      <td>$0301</td>\n",
       "      <td>2016-11-18</td>\n",
       "      <td>N</td>\n",
       "      <td>2016-11-18 15:50:37</td>\n",
       "      <td>fa4c24ee999d3cae5074d01de8c01256527143f2</td>\n",
       "      <td>3</td>\n",
       "      <td>58</td>\n",
       "    </tr>\n",
       "    <tr>\n",
       "      <th>3759</th>\n",
       "      <td>3772</td>\n",
       "      <td>$0401</td>\n",
       "      <td>2016-11-18</td>\n",
       "      <td>N</td>\n",
       "      <td>2016-11-18 15:50:39</td>\n",
       "      <td>fa4c24ee999d3cae5074d01de8c01256527143f2</td>\n",
       "      <td>3</td>\n",
       "      <td>58</td>\n",
       "    </tr>\n",
       "    <tr>\n",
       "      <th>3760</th>\n",
       "      <td>3773</td>\n",
       "      <td>$0501</td>\n",
       "      <td>2016-11-18</td>\n",
       "      <td>N</td>\n",
       "      <td>2016-11-18 15:50:41</td>\n",
       "      <td>fa4c24ee999d3cae5074d01de8c01256527143f2</td>\n",
       "      <td>3</td>\n",
       "      <td>58</td>\n",
       "    </tr>\n",
       "    <tr>\n",
       "      <th>3761</th>\n",
       "      <td>3774</td>\n",
       "      <td>$0702</td>\n",
       "      <td>2016-11-18</td>\n",
       "      <td>Y</td>\n",
       "      <td>2016-11-18 15:52:27</td>\n",
       "      <td>fa4c24ee999d3cae5074d01de8c01256527143f2</td>\n",
       "      <td>3</td>\n",
       "      <td>58</td>\n",
       "    </tr>\n",
       "  </tbody>\n",
       "</table>\n",
       "</div>"
      ],
      "text/plain": [
       "        id question_id     workday response                date  \\\n",
       "3752  3765       $0101  2016-11-18        Y 2016-11-18 15:50:15   \n",
       "3753  3766       $0201  2016-11-18        Y 2016-11-18 15:50:20   \n",
       "3754  3767       $0203  2016-11-18        N 2016-11-18 15:50:18   \n",
       "3755  3768       $0202  2016-11-18        N 2016-11-18 15:50:21   \n",
       "3756  3769       $0801  2016-11-18        Y 2016-11-18 15:50:24   \n",
       "3757  3770       $0601  2016-11-18        N 2016-11-18 15:50:32   \n",
       "3758  3771       $0301  2016-11-18        N 2016-11-18 15:50:37   \n",
       "3759  3772       $0401  2016-11-18        N 2016-11-18 15:50:39   \n",
       "3760  3773       $0501  2016-11-18        N 2016-11-18 15:50:41   \n",
       "3761  3774       $0702  2016-11-18        Y 2016-11-18 15:52:27   \n",
       "\n",
       "                                    patient_id  checklist_id  user_id  \n",
       "3752  fa4c24ee999d3cae5074d01de8c01256527143f2             3       58  \n",
       "3753  fa4c24ee999d3cae5074d01de8c01256527143f2             3       58  \n",
       "3754  fa4c24ee999d3cae5074d01de8c01256527143f2             3       58  \n",
       "3755  fa4c24ee999d3cae5074d01de8c01256527143f2             3       58  \n",
       "3756  fa4c24ee999d3cae5074d01de8c01256527143f2             3       58  \n",
       "3757  fa4c24ee999d3cae5074d01de8c01256527143f2             3       58  \n",
       "3758  fa4c24ee999d3cae5074d01de8c01256527143f2             3       58  \n",
       "3759  fa4c24ee999d3cae5074d01de8c01256527143f2             3       58  \n",
       "3760  fa4c24ee999d3cae5074d01de8c01256527143f2             3       58  \n",
       "3761  fa4c24ee999d3cae5074d01de8c01256527143f2             3       58  "
      ]
     },
     "execution_count": 19,
     "metadata": {},
     "output_type": "execute_result"
    }
   ],
   "source": [
    "df_response.tail(10)"
   ]
  },
  {
   "cell_type": "code",
   "execution_count": 21,
   "metadata": {
    "collapsed": false
   },
   "outputs": [],
   "source": [
    "#Looking at what kind of questions has been answered for each patient\n",
    "for index, row in df_response.iterrows():\n",
    "    doc = row.user_id\n",
    "    pat = row.patient_id\n",
    "    question = row.question_id\n",
    "    if '$' in question:\n",
    "        question = question[1:]\n",
    "    response = row.response\n",
    "    workday = row.workday\n",
    "#     print(workday, type(workday))\n",
    "    doc_pat_answer_dict[doc][pat].append({'Q': question, 'R': response, 'T': workday})\n"
   ]
  },
  {
   "cell_type": "markdown",
   "metadata": {},
   "source": [
    "## Helio's code "
   ]
  },
  {
   "cell_type": "code",
   "execution_count": 22,
   "metadata": {
    "collapsed": true
   },
   "outputs": [],
   "source": [
    "class PatientEntry:\n",
    "    def __init__(self):\n",
    "        self.apache_is_completed = True\n",
    "        self.has_antibiotics = True\n",
    "        self.has_lines = True\n",
    "        self.has_medication = True\n",
    "        self.has_ventilation = True"
   ]
  },
  {
   "cell_type": "code",
   "execution_count": 23,
   "metadata": {
    "collapsed": true
   },
   "outputs": [],
   "source": [
    "checklist = {\"order\": \"(01,{03|06|07|08},10)\", \"description\": \"No ARDS\", \"id\": \"1\", \"groups\": [{\"title\": \"Ventilator & Sedation Weaning\", \"sections\": [{\"title\": \"Sedation:\", \"dependence\": \"hasMedication\", \"questions\": [{\"indentation\": 0, \"dependence\": \"true\", \"text\": \"Has a sedation awakening trial (SAT) been performed today?\", \"questionType\": \"Q\", \"id\": \"0101\"}, {\"indentation\": 0, \"dependence\": \"!0101\", \"text\": \"Is it appropriate to perform an SAT today?\", \"questionType\": \"Q\", \"id\": \"0102\"}], \"id\": \"0100\"}, {\"title\": \"Ventilator weaning:\", \"dependence\": \"(0101|0102)&hasVentilation\", \"questions\": [{\"indentation\": 0, \"dependence\": \"true\", \"text\": \"Has a spontaneous breathing trial (SBT) been performed today?\", \"questionType\": \"Q\", \"id\": \"0201\"}, {\"indentation\": 0, \"dependence\": \"0201\", \"text\": \"Can the patient be extubated today?\", \"questionType\": \"Q\", \"id\": \"0202\"}, {\"indentation\": 0, \"dependence\": \"!0201\", \"text\": \"Is it appropriate to perform an SBT today?\", \"questionType\": \"Q\", \"id\": \"0203\"}], \"id\": \"0200\"}], \"dependence\": \"hasVentilation\", \"id\": \"01\", \"emrInfoId\": \"VENTILATOR_WEANING\"}, {\"title\": \"Vascular Access, Urinary Catheter & Nutrition\", \"sections\": [{\"title\": \"Vascular access:\", \"dependence\": \"true\", \"questions\": [{\"indentation\": 0, \"dependence\": \"true\", \"text\": \"Can any central venous or arterial lines be removed?\", \"questionType\": \"Q\", \"id\": \"0301\"}], \"id\": \"0300\"}, {\"title\": \"Urinary catheters:\", \"dependence\": \"true\", \"questions\": [{\"indentation\": 0, \"dependence\": \"true\", \"text\": \"Can the urinary catheter be removed today?\", \"questionType\": \"Q\", \"id\": \"0401\"}], \"id\": \"0400\"}, {\"title\": \"Nutrition:\", \"dependence\": \"true\", \"questions\": [{\"indentation\": 0, \"dependence\": \"true\", \"text\": \"Is it appropriate to increase nutrition today?\", \"questionType\": \"Q\", \"id\": \"0501\"}], \"id\": \"0500\"}], \"dependence\": \"true\", \"id\": \"03\", \"emrInfoId\": \"LINES_FOOD\"}, {\"title\": \"Antibiotics\", \"sections\": [{\"title\": \"\", \"dependence\": \"true\", \"questions\": [{\"indentation\": 0, \"dependence\": \"true\", \"text\": \"Can antibiotic coverage be stopped or narrowed today?\", \"questionType\": \"Q\", \"id\": \"0601\"}], \"id\": \"0600\"}], \"dependence\": \"hasAntibiotics\", \"id\": \"06\", \"emrInfoId\": \"ANTIBIOTICS\"}, {\"title\": \"DVT\", \"sections\": [{\"title\": \"\", \"dependence\": \"true\", \"questions\": [{\"indentation\": 0, \"dependence\": \"true\", \"text\": \"Is the patient on appropriate DVT chemoprophylaxis?\", \"questionType\": \"Q\", \"id\": \"0701\"}, {\"indentation\": 0, \"dependence\": \"true\", \"text\": \"Can the patient's mobility be increased today?\", \"questionType\": \"Q\", \"id\": \"0702\"}], \"id\": \"0700\"}], \"dependence\": \"true\", \"id\": \"07\", \"emrInfoId\": \"DVT\"}, {\"title\": \"Pressure Ulcers\", \"sections\": [{\"title\": \"\", \"dependence\": \"true\", \"questions\": [{\"indentation\": 0, \"dependence\": \"true\", \"text\": \"Has the patient been reviewed for pressure ulcers today?\", \"questionType\": \"Q\", \"id\": \"0801\"}], \"id\": \"0800\"}], \"dependence\": \"true\", \"id\": \"08\", \"emrInfoId\": \"PRESSURE_ULCERS\"}, {\"title\": \"Apache\", \"sections\": [{\"title\": \"\", \"dependence\": \"true\", \"questions\": [{\"indentation\": 0, \"dependence\": \"true\", \"text\": \"APACHE form is not complete. Please fill out the APACHE form.\", \"questionType\": \"T\", \"id\": \"1001\"}], \"id\": \"1000\"}], \"dependence\": \"!apacheIsCompleted\", \"id\": \"10\", \"emrInfoId\": \"NO\"}]}"
   ]
  },
  {
   "cell_type": "code",
   "execution_count": 24,
   "metadata": {
    "collapsed": false
   },
   "outputs": [],
   "source": [
    "workday_list = df_response.workday.unique().tolist()"
   ]
  },
  {
   "cell_type": "code",
   "execution_count": 25,
   "metadata": {
    "collapsed": false
   },
   "outputs": [],
   "source": [
    "daily_response_dict = {}\n",
    "# patient_user = defaultdict(lambda: set())\n",
    "\n",
    "for workday in workday_list:\n",
    "    all_responses = defaultdict(lambda: {})\n",
    "    for index, row in df_response[df_response['workday']==workday].iterrows():\n",
    "        patient_id = row['patient_id']\n",
    "        question_id = row['question_id']\n",
    "        response = row['response']\n",
    "        try:\n",
    "            if len(response.strip()) > 0:\n",
    "                all_responses[patient_id][question_id] = response\n",
    "                user_id = row['user_id']\n",
    "#                 patient_user[patient_id].add(user_id)\n",
    "        except AttributeError:\n",
    "            pass\n",
    "    daily_response_dict[workday] = all_responses"
   ]
  },
  {
   "cell_type": "code",
   "execution_count": 28,
   "metadata": {
    "collapsed": false
   },
   "outputs": [],
   "source": [
    "result  = {}\n",
    "for day, all_responses in daily_response_dict.items():\n",
    "    status = {}\n",
    "    for hash_fin, responses in all_responses.items():\n",
    "#         print(\"Patient : {}\".format(hash_fin))\n",
    "#         print(\"Patient: {}, \\n\\t responses: {}\".format(hash_fin, responses))\n",
    "        entry = PatientEntry()\n",
    "        evaluator = checkeval.MathExpressionEvaluator(entry, responses)\n",
    "        questions = 0\n",
    "        answered = 0\n",
    "        for group in checklist[\"groups\"]:\n",
    "            group_visible = evaluator.convert_expression_and_evalute(group['dependence'])\n",
    "            #print(\"group_visible: {}, {}\".format(group['dependence'], group_visible))\n",
    "            for section in group[\"sections\"]:\n",
    "                section_visible = group_visible and evaluator.convert_expression_and_evalute(section['dependence'])\n",
    "                for question in section[\"questions\"]:\n",
    "                    question_visible = section_visible and evaluator.convert_expression_and_evalute(question['dependence'])\n",
    "                    if question_visible:\n",
    "                        questions += 1\n",
    "                        if question['id'] in responses:\n",
    "                            #print(\"{} - Y\".format(question['id']))\n",
    "                            answered += 1\n",
    "                        else:\n",
    "                            #print(\"{} - N\".format(question['id']))\n",
    "                            pass\n",
    "        doc = df_response.user_id[(df_response['workday'] == day) & (df_response['patient_id'] == hash_fin)].unique().tolist()\n",
    "        if len(doc) == 1:\n",
    "            status[hash_fin] = (float(answered) / float(questions) if questions > 0 else 0, doc[0])\n",
    "        else:\n",
    "            status[hash_fin] = (float(answered) / float(questions) if questions > 0 else 0, doc)\n",
    "    result[day] =  status\n"
   ]
  },
  {
   "cell_type": "code",
   "execution_count": 30,
   "metadata": {
    "collapsed": false
   },
   "outputs": [],
   "source": [
    "checklist_completion_dict = {d: [] for d in user_id_list if bool(doc_pat_answer_dict[d]) == True}\n",
    "for day, response in result.items():\n",
    "    for pat, val in response.items():\n",
    "        doc = val[1]\n",
    "        completion = val[0]\n",
    "        checklist_completion_dict[doc].append(completion)\n",
    "\n"
   ]
  },
  {
   "cell_type": "code",
   "execution_count": 31,
   "metadata": {
    "collapsed": true
   },
   "outputs": [],
   "source": [
    "complete_to_incomplete = {d: [] for d in checklist_completion_dict.keys()}\n",
    "incomplete = {d: [] for d in checklist_completion_dict.keys()}"
   ]
  },
  {
   "cell_type": "code",
   "execution_count": 32,
   "metadata": {
    "collapsed": true
   },
   "outputs": [],
   "source": [
    "for key, val in checklist_completion_dict.items():\n",
    "    complete_count = val.count(1.0)\n",
    "    complete_to_incomplete[key] = [complete_count/len(val), 1 - complete_count/len(val)]"
   ]
  },
  {
   "cell_type": "code",
   "execution_count": 33,
   "metadata": {
    "collapsed": false
   },
   "outputs": [
    {
     "data": {
      "text/plain": [
       "{18: [0.0, 1.0],\n",
       " 20: [0.043478260869565216, 0.9565217391304348],\n",
       " 54: [0.06451612903225806, 0.935483870967742],\n",
       " 55: [0.038461538461538464, 0.9615384615384616],\n",
       " 56: [0.06521739130434782, 0.9347826086956522],\n",
       " 57: [0.16666666666666666, 0.8333333333333334],\n",
       " 58: [0.17829457364341086, 0.8217054263565892]}"
      ]
     },
     "execution_count": 33,
     "metadata": {},
     "output_type": "execute_result"
    }
   ],
   "source": [
    "complete_to_incomplete"
   ]
  },
  {
   "cell_type": "code",
   "execution_count": 34,
   "metadata": {
    "collapsed": false
   },
   "outputs": [],
   "source": [
    "doctor_names = list(complete_to_incomplete.keys())\n",
    "complete_ratios = list(complete_to_incomplete[d][0] for d in doctor_names)\n",
    "doctor_names = [str(doc) for doc in doctor_names]"
   ]
  },
  {
   "cell_type": "code",
   "execution_count": 35,
   "metadata": {
    "collapsed": true
   },
   "outputs": [],
   "source": [
    "#Add text with mean and standard deviation!!!"
   ]
  },
  {
   "cell_type": "code",
   "execution_count": 36,
   "metadata": {
    "collapsed": true
   },
   "outputs": [],
   "source": [
    "import matplotlib.ticker as ticker"
   ]
  },
  {
   "cell_type": "code",
   "execution_count": 37,
   "metadata": {
    "collapsed": false
   },
   "outputs": [
    {
     "data": {
      "image/png": "[encoded data removed]",
      "text/plain": [
       "<matplotlib.figure.Figure at 0x7f4ff206bcc0>"
      ]
     },
     "metadata": {},
     "output_type": "display_data"
    }
   ],
   "source": [
    "font_size = 15\n",
    "\n",
    "fig, ax = plt.subplots(figsize=(10,6))\n",
    "\n",
    "ax.bar(range(len(doctor_names)), complete_ratios, align='center', color='slategray')\n",
    "\n",
    "ax.set_xticks(range(len(doctor_names)))\n",
    "ax.set_xticklabels(doctor_names, fontsize=font_size)\n",
    "\n",
    "ax.set_xlabel('Doctor IDs', fontsize=font_size)\n",
    "ax.set_ylabel('Completion Ratio', fontsize=font_size)\n",
    "plt.title('Completion ratio for each patient per doctor', fontsize=1.2*font_size)\n",
    "plt.tight_layout()\n",
    "plt.savefig('../../result/iphoneapp/checklist_completion_ratio_111816.png', transparent=True)"
   ]
  },
  {
   "cell_type": "code",
   "execution_count": 39,
   "metadata": {
    "collapsed": true
   },
   "outputs": [],
   "source": [
    "doctors = []\n",
    "complete = []\n",
    "not_complete = []\n",
    "for key, val in checklist_completion_dict.items():\n",
    "    doctors.append(key)\n",
    "    complete.append(val.count(1.0))\n",
    "    not_complete.append(len(val))\n"
   ]
  },
  {
   "cell_type": "code",
   "execution_count": 40,
   "metadata": {
    "collapsed": false
   },
   "outputs": [
    {
     "data": {
      "image/png": "[encoded data removed]",
      "text/plain": [
       "<matplotlib.figure.Figure at 0x7f4ff1eaf908>"
      ]
     },
     "metadata": {},
     "output_type": "display_data"
    }
   ],
   "source": [
    "font_size = 15\n",
    "\n",
    "fig, ax = plt.subplots(figsize=(10,6))\n",
    "\n",
    "ax.bar(range(len(doctors)), complete, align='center', color='firebrick')\n",
    "ax.bar(range(len(doctors)), not_complete, align='center', color='antiquewhite', bottom=complete)\n",
    "ax.set_xticks(range(len(doctor_names)))\n",
    "ax.set_xticklabels(doctor_names, fontsize=font_size)\n",
    "\n",
    "ax.set_xlabel('Doctor IDs', fontsize=font_size)\n",
    "ax.set_ylabel('Completion Ratio', fontsize=font_size)\n",
    "plt.title('Chekcklist completion number for each patient per doctor', fontsize=1.2*font_size)\n",
    "plt.tight_layout()\n",
    "plt.savefig('../../result/iphoneapp/checklist_completion_raw_num_111718.png', transparent=True)"
   ]
  },
  {
   "cell_type": "code",
   "execution_count": 41,
   "metadata": {
    "collapsed": false
   },
   "outputs": [
    {
     "data": {
      "text/plain": [
       "[18, 20, 54, 55, 56, 57]"
      ]
     },
     "execution_count": 41,
     "metadata": {},
     "output_type": "execute_result"
    }
   ],
   "source": [
    "doctors[:-1]"
   ]
  },
  {
   "cell_type": "code",
   "execution_count": 42,
   "metadata": {
    "collapsed": false
   },
   "outputs": [
    {
     "data": {
      "image/png": "[encoded data removed]",
      "text/plain": [
       "<matplotlib.figure.Figure at 0x7f4ff1e3eeb8>"
      ]
     },
     "metadata": {},
     "output_type": "display_data"
    }
   ],
   "source": [
    "font_size = 15\n",
    "\n",
    "fig, ax = plt.subplots(figsize=(10,6))\n",
    "\n",
    "ax.bar(range(len(doctors[:-1])), complete[:-1], align='center', color='firebrick')\n",
    "ax.bar(range(len(doctors[:-1])), not_complete[:-1], align='center', color='antiquewhite', bottom=complete[:-1])\n",
    "ax.set_xticks(range(len(doctor_names[:-1])))\n",
    "ax.set_xticklabels(doctor_names[:-1], fontsize=font_size)\n",
    "\n",
    "ax.set_xlabel('Doctor IDs', fontsize=font_size)\n",
    "ax.set_ylabel('Completion Ratio', fontsize=font_size)\n",
    "plt.title('Completion ratio for each patient per doctor', fontsize=1.2*font_size)\n",
    "plt.tight_layout()\n",
    "plt.savefig('../../result/iphoneapp/checklist_completion_raw_num_wo_58_111816.png', transparent=True)"
   ]
  },
  {
   "cell_type": "markdown",
   "metadata": {
    "collapsed": true
   },
   "source": [
    "## Ratio of completion for cases doctors have not  completed the checklist"
   ]
  },
  {
   "cell_type": "code",
   "execution_count": 43,
   "metadata": {
    "collapsed": false
   },
   "outputs": [],
   "source": [
    "incomplete_dist = {}\n",
    "for key, val in checklist_completion_dict.items():\n",
    "    incomplete_list = [v for v in val if v < 1.0]\n",
    "    incomplete_dist[key] = [np.mean(incomplete_list), np.std(incomplete_list)] \n",
    "    "
   ]
  },
  {
   "cell_type": "code",
   "execution_count": 44,
   "metadata": {
    "collapsed": false
   },
   "outputs": [],
   "source": [
    "means = []\n",
    "stds = []\n",
    "names = []\n",
    "for key, val in incomplete_dist.items():\n",
    "    names.append(key)\n",
    "    stds.append(val[1])\n",
    "    means.append(val[0])"
   ]
  },
  {
   "cell_type": "code",
   "execution_count": 45,
   "metadata": {
    "collapsed": false
   },
   "outputs": [
    {
     "data": {
      "image/png": "[encoded data removed]",
      "text/plain": [
       "<matplotlib.figure.Figure at 0x7f4ff1e3ebe0>"
      ]
     },
     "metadata": {},
     "output_type": "display_data"
    }
   ],
   "source": [
    "width = 0.6\n",
    "\n",
    "fig, ax = plt.subplots(figsize=(10,6))\n",
    "ax.bar(np.arange(len(names)), means, width, color='steelblue', yerr=stds, align='center')\n",
    "\n",
    "ax.set_xticks(range(len(doctor_names)))\n",
    "ax.set_xticklabels(names, fontsize=font_size)\n",
    "ax.set_ylim([0., 1.])\n",
    "\n",
    "ax.set_xlabel('Doctor IDs', fontsize=font_size)\n",
    "ax.set_ylabel('Completion status', fontsize=font_size)\n",
    "plt.title('Of the incomplete checkilist, how much are they completed', fontsize=1.2*font_size)\n",
    "\n",
    "plt.tight_layout()\n",
    "plt.savefig('../../result/iphoneapp/completion_ratio_111816.png', transparent=True)"
   ]
  },
  {
   "cell_type": "code",
   "execution_count": null,
   "metadata": {
    "collapsed": true
   },
   "outputs": [],
   "source": []
  },
  {
   "cell_type": "code",
   "execution_count": null,
   "metadata": {
    "collapsed": true
   },
   "outputs": [],
   "source": []
  },
  {
   "cell_type": "code",
   "execution_count": null,
   "metadata": {
    "collapsed": true
   },
   "outputs": [],
   "source": []
  },
  {
   "cell_type": "code",
   "execution_count": null,
   "metadata": {
    "collapsed": true
   },
   "outputs": [],
   "source": []
  },
  {
   "cell_type": "code",
   "execution_count": null,
   "metadata": {
    "collapsed": true
   },
   "outputs": [],
   "source": []
  },
  {
   "cell_type": "code",
   "execution_count": null,
   "metadata": {
    "collapsed": true
   },
   "outputs": [],
   "source": []
  },
  {
   "cell_type": "code",
   "execution_count": null,
   "metadata": {
    "collapsed": true
   },
   "outputs": [],
   "source": []
  },
  {
   "cell_type": "code",
   "execution_count": null,
   "metadata": {
    "collapsed": true
   },
   "outputs": [],
   "source": []
  },
  {
   "cell_type": "code",
   "execution_count": null,
   "metadata": {
    "collapsed": true
   },
   "outputs": [],
   "source": []
  },
  {
   "cell_type": "code",
   "execution_count": null,
   "metadata": {
    "collapsed": true
   },
   "outputs": [],
   "source": []
  },
  {
   "cell_type": "code",
   "execution_count": null,
   "metadata": {
    "collapsed": true
   },
   "outputs": [],
   "source": []
  },
  {
   "cell_type": "code",
   "execution_count": null,
   "metadata": {
    "collapsed": true
   },
   "outputs": [],
   "source": []
  },
  {
   "cell_type": "code",
   "execution_count": null,
   "metadata": {
    "collapsed": true
   },
   "outputs": [],
   "source": []
  },
  {
   "cell_type": "code",
   "execution_count": null,
   "metadata": {
    "collapsed": true
   },
   "outputs": [],
   "source": []
  },
  {
   "cell_type": "code",
   "execution_count": null,
   "metadata": {
    "collapsed": true
   },
   "outputs": [],
   "source": []
  },
  {
   "cell_type": "code",
   "execution_count": null,
   "metadata": {
    "collapsed": true
   },
   "outputs": [],
   "source": []
  },
  {
   "cell_type": "code",
   "execution_count": null,
   "metadata": {
    "collapsed": true
   },
   "outputs": [],
   "source": []
  },
  {
   "cell_type": "code",
   "execution_count": null,
   "metadata": {
    "collapsed": true
   },
   "outputs": [],
   "source": []
  },
  {
   "cell_type": "code",
   "execution_count": null,
   "metadata": {
    "collapsed": true
   },
   "outputs": [],
   "source": []
  },
  {
   "cell_type": "code",
   "execution_count": null,
   "metadata": {
    "collapsed": true
   },
   "outputs": [],
   "source": []
  },
  {
   "cell_type": "code",
   "execution_count": null,
   "metadata": {
    "collapsed": true
   },
   "outputs": [],
   "source": [
    "\n"
   ]
  }
 ],
 "metadata": {
  "kernelspec": {
   "display_name": "Python 3",
   "language": "python",
   "name": "python3"
  },
  "language_info": {
   "codemirror_mode": {
    "name": "ipython",
    "version": 3
   },
   "file_extension": ".py",
   "mimetype": "text/x-python",
   "name": "python",
   "nbconvert_exporter": "python",
   "pygments_lexer": "ipython3",
   "version": "3.5.2"
  }
 },
 "nbformat": 4,
 "nbformat_minor": 0
}
